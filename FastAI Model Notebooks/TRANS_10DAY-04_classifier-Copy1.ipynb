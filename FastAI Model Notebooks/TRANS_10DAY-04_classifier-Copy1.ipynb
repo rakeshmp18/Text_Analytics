{
 "cells": [
  {
   "cell_type": "code",
   "execution_count": 1,
   "metadata": {},
   "outputs": [],
   "source": [
    "%load_ext autoreload\n",
    "%autoreload 2\n",
    "from fastai.fastai.text import *\n",
    "import pickle"
   ]
  },
  {
   "cell_type": "code",
   "execution_count": 2,
   "metadata": {},
   "outputs": [],
   "source": [
    "chunksize=24000"
   ]
  },
  {
   "cell_type": "markdown",
   "metadata": {},
   "source": [
    "## Classifier Training"
   ]
  },
  {
   "cell_type": "code",
   "execution_count": 3,
   "metadata": {},
   "outputs": [],
   "source": [
    "fold_index = 2   # fold_index+1 is accessed"
   ]
  },
  {
   "cell_type": "code",
   "execution_count": 4,
   "metadata": {},
   "outputs": [],
   "source": [
    "# these are the indexes of the text based on vocab\n",
    "\n",
    "ids_train = np.load('results_rakesh/tok_inds_npy/cls_ids_train_f' + str(fold_index+1) + '.npy')\n",
    "ids_test = np.load('results_rakesh/tok_inds_npy/cls_ids_test_f' + str(fold_index+1) + '.npy')"
   ]
  },
  {
   "cell_type": "code",
   "execution_count": 5,
   "metadata": {},
   "outputs": [
    {
     "data": {
      "text/plain": [
       "(25811,)"
      ]
     },
     "execution_count": 5,
     "metadata": {},
     "output_type": "execute_result"
    }
   ],
   "source": [
    "ids_train.shape"
   ]
  },
  {
   "cell_type": "code",
   "execution_count": 6,
   "metadata": {
    "scrolled": false
   },
   "outputs": [
    {
     "data": {
      "text/html": [
       "<div>\n",
       "<style scoped>\n",
       "    .dataframe tbody tr th:only-of-type {\n",
       "        vertical-align: middle;\n",
       "    }\n",
       "\n",
       "    .dataframe tbody tr th {\n",
       "        vertical-align: top;\n",
       "    }\n",
       "\n",
       "    .dataframe thead th {\n",
       "        text-align: right;\n",
       "    }\n",
       "</style>\n",
       "<table border=\"1\" class=\"dataframe\">\n",
       "  <thead>\n",
       "    <tr style=\"text-align: right;\">\n",
       "      <th></th>\n",
       "      <th>label</th>\n",
       "      <th>1day_ret</th>\n",
       "      <th>article_id</th>\n",
       "      <th>gvkey</th>\n",
       "      <th>date</th>\n",
       "    </tr>\n",
       "  </thead>\n",
       "  <tbody>\n",
       "    <tr>\n",
       "      <th>0</th>\n",
       "      <td>0</td>\n",
       "      <td>0.000900</td>\n",
       "      <td>1124027</td>\n",
       "      <td>020779:01</td>\n",
       "      <td>2008-02-07</td>\n",
       "    </tr>\n",
       "    <tr>\n",
       "      <th>1</th>\n",
       "      <td>0</td>\n",
       "      <td>0.020017</td>\n",
       "      <td>1124371</td>\n",
       "      <td>008479:01</td>\n",
       "      <td>2008-02-07</td>\n",
       "    </tr>\n",
       "    <tr>\n",
       "      <th>2</th>\n",
       "      <td>-1</td>\n",
       "      <td>-0.026510</td>\n",
       "      <td>1131224</td>\n",
       "      <td>120877:01</td>\n",
       "      <td>2008-02-07</td>\n",
       "    </tr>\n",
       "  </tbody>\n",
       "</table>\n",
       "</div>"
      ],
      "text/plain": [
       "   label  1day_ret  article_id      gvkey        date\n",
       "0      0  0.000900     1124027  020779:01  2008-02-07\n",
       "1      0  0.020017     1124371  008479:01  2008-02-07\n",
       "2     -1 -0.026510     1131224  120877:01  2008-02-07"
      ]
     },
     "execution_count": 6,
     "metadata": {},
     "output_type": "execute_result"
    }
   ],
   "source": [
    "info_train = pd.read_csv('results_rakesh/one_doc_df/doc_info_train_f'\n",
    "                         + str(fold_index+1) + '.csv', index_col=0)\n",
    "info_test = pd.read_csv('results_rakesh/one_doc_df/doc_info_test_f'\n",
    "                        + str(fold_index+1) + '.csv', index_col=0)\n",
    "info_train.head(3)"
   ]
  },
  {
   "cell_type": "code",
   "execution_count": 7,
   "metadata": {},
   "outputs": [
    {
     "data": {
      "text/plain": [
       "(25811,)"
      ]
     },
     "execution_count": 7,
     "metadata": {},
     "output_type": "execute_result"
    }
   ],
   "source": [
    "lbl_train = info_train[\"label\"].values\n",
    "lbl_test = info_test[\"label\"].values\n",
    "lbl_train.shape"
   ]
  },
  {
   "cell_type": "code",
   "execution_count": 8,
   "metadata": {
    "scrolled": true
   },
   "outputs": [
    {
     "data": {
      "text/plain": [
       "60002"
      ]
     },
     "execution_count": 8,
     "metadata": {},
     "output_type": "execute_result"
    }
   ],
   "source": [
    "itos = pickle.load(Path('Transcript_Data/itos.pkl').open('rb'))\n",
    "stoi = collections.defaultdict(lambda:0, {v:k for k,v in enumerate(itos)})\n",
    "len(itos)"
   ]
  },
  {
   "cell_type": "code",
   "execution_count": 9,
   "metadata": {},
   "outputs": [],
   "source": [
    "lbl_train = lbl_train + 1\n",
    "lbl_test = lbl_test + 1"
   ]
  },
  {
   "cell_type": "code",
   "execution_count": 10,
   "metadata": {},
   "outputs": [
    {
     "data": {
      "text/plain": [
       "array([1, 1, 0, 2, 1])"
      ]
     },
     "execution_count": 10,
     "metadata": {},
     "output_type": "execute_result"
    }
   ],
   "source": [
    "lbl_train[:5]"
   ]
  },
  {
   "cell_type": "code",
   "execution_count": 11,
   "metadata": {},
   "outputs": [],
   "source": [
    "bptt,em_sz,nh,nl = 70,400,1150,3   # back prop through time, embedding size, num hidden neuron, num layers\n",
    "vs = len(itos)\n",
    "opt_fn = partial(optim.Adam, betas=(0.8, 0.99))\n",
    "bs = 48   # batch size"
   ]
  },
  {
   "cell_type": "code",
   "execution_count": 12,
   "metadata": {},
   "outputs": [],
   "source": [
    "# sortist sampler just sorts the texts to have the longest text first\n",
    "\n",
    "ds_train = TextDataset(ids_train, lbl_train)\n",
    "ds_test = TextDataset(ids_test, lbl_test)\n",
    "samp_train = SortishSampler(ids_train, key=lambda x: len(ids_train[x]), bs=bs//2)\n",
    "samp_test = SortSampler(ids_test, key=lambda x: len(ids_test[x]))\n",
    "dl_train = DataLoader(ds_train, bs//2, transpose=True, num_workers=1, pad_idx=1, sampler=samp_train)\n",
    "dl_test = DataLoader(ds_test, bs, transpose=True, num_workers=1, pad_idx=1, sampler=samp_test)\n",
    "md = ModelData(Path('results_rakesh/nn_models/'), dl_train, dl_test)"
   ]
  },
  {
   "cell_type": "code",
   "execution_count": 13,
   "metadata": {},
   "outputs": [],
   "source": [
    "dps = np.array([0.4,0.5,0.05,0.3,0.4])"
   ]
  },
  {
   "cell_type": "code",
   "execution_count": 14,
   "metadata": {},
   "outputs": [],
   "source": [
    "# this creates a model object? what are the parameters here?\n",
    "# c is # of classes, vs is vocab size, layers is num neurons per layer?\n",
    "# you mean during training when adjusting weights it is looking at 20*70 words\n",
    "# in the forward pass\n",
    "# and then while calculating gradients only 70\n",
    "# so in the prediction it uses 20*70 words then since there is no backprop for prediction?\n",
    "\n",
    "c = 3\n",
    "m = get_rnn_classifier(bptt, 20*70, c, vs, emb_sz=em_sz, n_hid=nh, n_layers=nl, pad_token=1,\n",
    "          layers=[em_sz*3, 50, c], drops=[dps[4], 0.1],\n",
    "          dropouti=dps[0], wdrop=dps[1], dropoute=dps[2], dropouth=dps[3])"
   ]
  },
  {
   "cell_type": "code",
   "execution_count": 15,
   "metadata": {},
   "outputs": [],
   "source": [
    "opt_fn = partial(optim.Adam, betas=(0.7, 0.99))"
   ]
  },
  {
   "cell_type": "code",
   "execution_count": 16,
   "metadata": {},
   "outputs": [],
   "source": [
    "# what is the difference between RNN_Learnings and get_rnn_classifier\n",
    "# RNN_Learner is a general RNN learner - to which you give m\n",
    "\n",
    "learn = RNN_Learner(md, TextModel(to_gpu(m)), opt_fn=opt_fn)\n",
    "learn.reg_fn = partial(seq2seq_reg, alpha=2, beta=1)\n",
    "learn.clip=25.\n",
    "learn.metrics = [accuracy]"
   ]
  },
  {
   "cell_type": "code",
   "execution_count": 20,
   "metadata": {},
   "outputs": [],
   "source": [
    "# learning rates init for each layer - will be calculated\n",
    "\n",
    "lr=3e-3\n",
    "lrm = 2.6\n",
    "lrs = np.array([lr/(lrm**4), lr/(lrm**3), lr/(lrm**2), lr/lrm, lr])"
   ]
  },
  {
   "cell_type": "code",
   "execution_count": 21,
   "metadata": {},
   "outputs": [],
   "source": [
    "# same as above\n",
    "\n",
    "lrs=np.array([1e-4,1e-4,1e-4,1e-3,1e-2])"
   ]
  },
  {
   "cell_type": "code",
   "execution_count": 22,
   "metadata": {},
   "outputs": [],
   "source": [
    "# what is wd? this is weight decay\n",
    "\n",
    "wd = 1e-7\n",
    "wd = 0\n",
    "learn.load_encoder('lm1_enc')"
   ]
  },
  {
   "cell_type": "code",
   "execution_count": 20,
   "metadata": {},
   "outputs": [],
   "source": [
    "# freeze first layer and learn? or last layer\n",
    "\n",
    "learn.freeze_to(-1)"
   ]
  },
  {
   "cell_type": "code",
   "execution_count": 21,
   "metadata": {},
   "outputs": [
    {
     "data": {
      "application/vnd.jupyter.widget-view+json": {
       "model_id": "2e26368762ca427092d7e2985fcdd1d3",
       "version_major": 2,
       "version_minor": 0
      },
      "text/plain": [
       "HBox(children=(IntProgress(value=0, description='Epoch', max=1), HTML(value='')))"
      ]
     },
     "metadata": {},
     "output_type": "display_data"
    },
    {
     "name": "stdout",
     "output_type": "stream",
     "text": [
      " 79%|███████▉  | 852/1076 [22:18<05:51,  1.57s/it, loss=4.3]  "
     ]
    },
    {
     "data": {
      "image/png": "[encoded data removed]",
      "text/plain": [
       "<Figure size 432x288 with 1 Axes>"
      ]
     },
     "metadata": {},
     "output_type": "display_data"
    }
   ],
   "source": [
    "# find learning rate\n",
    "\n",
    "learn.lr_find(lrs/1000)\n",
    "learn.sched.plot()"
   ]
  },
  {
   "cell_type": "code",
   "execution_count": 26,
   "metadata": {},
   "outputs": [
    {
     "data": {
      "text/plain": [
       "[(Embedding(60002, 400, padding_idx=1), LockedDropout(\n",
       "  )), (WeightDrop(\n",
       "    (module): LSTM(400, 1150)\n",
       "  ), LockedDropout(\n",
       "  )), (WeightDrop(\n",
       "    (module): LSTM(1150, 1150)\n",
       "  ), LockedDropout(\n",
       "  )), (WeightDrop(\n",
       "    (module): LSTM(1150, 400)\n",
       "  ), LockedDropout(\n",
       "  )), PoolingLinearClassifier(\n",
       "   (layers): ModuleList(\n",
       "     (0): LinearBlock(\n",
       "       (lin): Linear(in_features=1200, out_features=50, bias=True)\n",
       "       (drop): Dropout(p=0.4)\n",
       "       (bn): BatchNorm1d(1200, eps=1e-05, momentum=0.1, affine=True)\n",
       "     )\n",
       "     (1): LinearBlock(\n",
       "       (lin): Linear(in_features=50, out_features=3, bias=True)\n",
       "       (drop): Dropout(p=0.1)\n",
       "       (bn): BatchNorm1d(50, eps=1e-05, momentum=0.1, affine=True)\n",
       "     )\n",
       "   )\n",
       " )]"
      ]
     },
     "execution_count": 26,
     "metadata": {},
     "output_type": "execute_result"
    }
   ],
   "source": [
    "learn.get_layer_groups()"
   ]
  },
  {
   "cell_type": "code",
   "execution_count": 41,
   "metadata": {
    "scrolled": true
   },
   "outputs": [
    {
     "data": {
      "application/vnd.jupyter.widget-view+json": {
       "model_id": "debdca8bcb07475dabe3caa09230a003",
       "version_major": 2,
       "version_minor": 0
      },
      "text/plain": [
       "HBox(children=(IntProgress(value=0, description='Epoch', max=1), HTML(value='')))"
      ]
     },
     "metadata": {},
     "output_type": "display_data"
    },
    {
     "name": "stdout",
     "output_type": "stream",
     "text": [
      "epoch      trn_loss   val_loss   accuracy                     \n",
      "    0      1.075444   1.08199    0.427797  \n"
     ]
    },
    {
     "data": {
      "text/plain": [
       "[array([1.08199]), 0.42779680392513536]"
      ]
     },
     "execution_count": 41,
     "metadata": {},
     "output_type": "execute_result"
    }
   ],
   "source": [
    "# fitting steps \n",
    "# A. freeze all but -1, 1 epoch\n",
    "# B. freeze all but -2 and -1, 1 epoch\n",
    "# C. unfreeze all and train 6 epochs\n",
    "\n",
    "learn.fit(lrs, 1, wds=wd, cycle_len=1, use_clr=(8,3))"
   ]
  },
  {
   "cell_type": "code",
   "execution_count": 42,
   "metadata": {},
   "outputs": [],
   "source": [
    "learn.save('clas_0_f' + str(fold_index+1) + '')"
   ]
  },
  {
   "cell_type": "code",
   "execution_count": 43,
   "metadata": {},
   "outputs": [],
   "source": [
    "learn.load('clas_0_f' + str(fold_index+1) + '')"
   ]
  },
  {
   "cell_type": "code",
   "execution_count": 44,
   "metadata": {},
   "outputs": [],
   "source": [
    "learn.freeze_to(-2)"
   ]
  },
  {
   "cell_type": "code",
   "execution_count": 49,
   "metadata": {},
   "outputs": [
    {
     "data": {
      "application/vnd.jupyter.widget-view+json": {
       "model_id": "8e4b3b81cca74c08b525f547f0a6bc36",
       "version_major": 2,
       "version_minor": 0
      },
      "text/plain": [
       "HBox(children=(IntProgress(value=0, description='Epoch', max=1), HTML(value='')))"
      ]
     },
     "metadata": {},
     "output_type": "display_data"
    },
    {
     "name": "stdout",
     "output_type": "stream",
     "text": [
      "epoch      trn_loss   val_loss   accuracy                     \n",
      "    0      1.089554   1.077106   0.431507  \n"
     ]
    },
    {
     "data": {
      "text/plain": [
       "[array([1.07711]), 0.431506849110943]"
      ]
     },
     "execution_count": 49,
     "metadata": {},
     "output_type": "execute_result"
    }
   ],
   "source": [
    "learn.fit(lrs, 1, wds=wd, cycle_len=1, use_clr=(8,3))"
   ]
  },
  {
   "cell_type": "code",
   "execution_count": 50,
   "metadata": {},
   "outputs": [],
   "source": [
    "learn.save('clas_1_f' + str(fold_index+1) + '')"
   ]
  },
  {
   "cell_type": "code",
   "execution_count": 23,
   "metadata": {},
   "outputs": [],
   "source": [
    "learn.load('clas_1_f' + str(fold_index+1) + '')"
   ]
  },
  {
   "cell_type": "code",
   "execution_count": 24,
   "metadata": {},
   "outputs": [],
   "source": [
    "learn.unfreeze()"
   ]
  },
  {
   "cell_type": "code",
   "execution_count": null,
   "metadata": {},
   "outputs": [],
   "source": []
  },
  {
   "cell_type": "code",
   "execution_count": 25,
   "metadata": {
    "scrolled": true
   },
   "outputs": [
    {
     "data": {
      "application/vnd.jupyter.widget-view+json": {
       "model_id": "7f7473d57f90441c9a2f42c6203f6900",
       "version_major": 2,
       "version_minor": 0
      },
      "text/plain": [
       "HBox(children=(IntProgress(value=0, description='Epoch', max=4), HTML(value='')))"
      ]
     },
     "metadata": {},
     "output_type": "display_data"
    },
    {
     "name": "stdout",
     "output_type": "stream",
     "text": [
      "epoch      trn_loss   val_loss   accuracy                     \n",
      "    0      1.080094   1.07265    0.432078  \n",
      "    1      1.082167   1.072278   0.429224                     \n",
      "    2      1.07212    1.069412   0.426941                     \n",
      "    3      1.078203   1.068903   0.428082                     \n",
      "\n"
     ]
    },
    {
     "data": {
      "text/plain": [
       "[array([1.0689]), 0.42808219096431993]"
      ]
     },
     "execution_count": 25,
     "metadata": {},
     "output_type": "execute_result"
    }
   ],
   "source": [
    "# even 6 epochs may be too lesss?\n",
    "\n",
    "learn.fit(lrs, 1, wds=wd, cycle_len=4, use_clr=(32,10))"
   ]
  },
  {
   "cell_type": "code",
   "execution_count": null,
   "metadata": {},
   "outputs": [
    {
     "data": {
      "application/vnd.jupyter.widget-view+json": {
       "model_id": "6d3f2837fb144d0abe590fbd3d0afb81",
       "version_major": 2,
       "version_minor": 0
      },
      "text/plain": [
       "HBox(children=(IntProgress(value=0, description='Epoch', max=6), HTML(value='')))"
      ]
     },
     "metadata": {},
     "output_type": "display_data"
    },
    {
     "name": "stdout",
     "output_type": "stream",
     "text": [
      "epoch      trn_loss   val_loss   accuracy                     \n",
      "    0      1.076635   1.1266     0.395263  \n",
      "    1      1.073954   1.092947   0.41153                      \n",
      "    2      1.086845   1.077565   0.428368                     \n",
      "    3      1.080189   1.070514   0.425799                     \n",
      " 55%|█████▍    | 588/1076 [24:41<20:29,  2.52s/it, loss=1.07] "
     ]
    }
   ],
   "source": [
    "learn.fit(lrs, 1, wds=wd, cycle_len=6, use_clr=(32,10))"
   ]
  },
  {
   "cell_type": "code",
   "execution_count": 26,
   "metadata": {
    "scrolled": true
   },
   "outputs": [
    {
     "data": {
      "image/png": "[encoded data removed]",
      "text/plain": [
       "<Figure size 432x288 with 1 Axes>"
      ]
     },
     "metadata": {},
     "output_type": "display_data"
    }
   ],
   "source": [
    "learn.sched.plot_loss()"
   ]
  },
  {
   "cell_type": "code",
   "execution_count": 27,
   "metadata": {},
   "outputs": [],
   "source": [
    "learn.save('clas_2_f' + str(fold_index+1) + '')"
   ]
  },
  {
   "cell_type": "markdown",
   "metadata": {},
   "source": [
    "## Evaluate IC?"
   ]
  },
  {
   "cell_type": "code",
   "execution_count": 28,
   "metadata": {},
   "outputs": [],
   "source": [
    "from scipy.stats import spearmanr"
   ]
  },
  {
   "cell_type": "code",
   "execution_count": 29,
   "metadata": {},
   "outputs": [],
   "source": [
    "def softmax(x, axis=None):\n",
    "    x = x - x.max(axis=axis, keepdims=True)\n",
    "    y = np.exp(x)\n",
    "    return y / y.sum(axis=axis, keepdims=True)"
   ]
  },
  {
   "cell_type": "code",
   "execution_count": 30,
   "metadata": {},
   "outputs": [
    {
     "data": {
      "text/plain": [
       "2"
      ]
     },
     "execution_count": 30,
     "metadata": {},
     "output_type": "execute_result"
    }
   ],
   "source": [
    "# fold_index = 4\n",
    "fold_index"
   ]
  },
  {
   "cell_type": "code",
   "execution_count": 32,
   "metadata": {},
   "outputs": [
    {
     "data": {
      "text/html": [
       "<div>\n",
       "<style scoped>\n",
       "    .dataframe tbody tr th:only-of-type {\n",
       "        vertical-align: middle;\n",
       "    }\n",
       "\n",
       "    .dataframe tbody tr th {\n",
       "        vertical-align: top;\n",
       "    }\n",
       "\n",
       "    .dataframe thead th {\n",
       "        text-align: right;\n",
       "    }\n",
       "</style>\n",
       "<table border=\"1\" class=\"dataframe\">\n",
       "  <thead>\n",
       "    <tr style=\"text-align: right;\">\n",
       "      <th></th>\n",
       "      <th>label</th>\n",
       "      <th>1day_ret</th>\n",
       "      <th>article_id</th>\n",
       "      <th>gvkey</th>\n",
       "      <th>date</th>\n",
       "    </tr>\n",
       "  </thead>\n",
       "  <tbody>\n",
       "    <tr>\n",
       "      <th>0</th>\n",
       "      <td>1</td>\n",
       "      <td>0.045434</td>\n",
       "      <td>1443021</td>\n",
       "      <td>024352:01</td>\n",
       "      <td>2012-01-04</td>\n",
       "    </tr>\n",
       "    <tr>\n",
       "      <th>1</th>\n",
       "      <td>-1</td>\n",
       "      <td>-0.029125</td>\n",
       "      <td>1442763</td>\n",
       "      <td>010840:01</td>\n",
       "      <td>2012-01-04</td>\n",
       "    </tr>\n",
       "    <tr>\n",
       "      <th>2</th>\n",
       "      <td>-1</td>\n",
       "      <td>-0.103440</td>\n",
       "      <td>1444712</td>\n",
       "      <td>010353:01</td>\n",
       "      <td>2012-01-04</td>\n",
       "    </tr>\n",
       "    <tr>\n",
       "      <th>3</th>\n",
       "      <td>0</td>\n",
       "      <td>-0.021495</td>\n",
       "      <td>1384659</td>\n",
       "      <td>162129:01</td>\n",
       "      <td>2012-01-05</td>\n",
       "    </tr>\n",
       "    <tr>\n",
       "      <th>4</th>\n",
       "      <td>0</td>\n",
       "      <td>-0.024947</td>\n",
       "      <td>1443938</td>\n",
       "      <td>140760:01</td>\n",
       "      <td>2012-01-05</td>\n",
       "    </tr>\n",
       "  </tbody>\n",
       "</table>\n",
       "</div>"
      ],
      "text/plain": [
       "   label  1day_ret  article_id      gvkey        date\n",
       "0      1  0.045434     1443021  024352:01  2012-01-04\n",
       "1     -1 -0.029125     1442763  010840:01  2012-01-04\n",
       "2     -1 -0.103440     1444712  010353:01  2012-01-04\n",
       "3      0 -0.021495     1384659  162129:01  2012-01-05\n",
       "4      0 -0.024947     1443938  140760:01  2012-01-05"
      ]
     },
     "execution_count": 32,
     "metadata": {},
     "output_type": "execute_result"
    }
   ],
   "source": [
    "ids_test = np.load('results_rakesh/tok_inds_npy/cls_ids_test_f' + str(fold_index+1) + '.npy')\n",
    "info_test = pd.read_csv('results_rakesh/one_doc_df/doc_info_test_f'\n",
    "                        + str(fold_index+1) + '.csv', index_col=0)\n",
    "lbl_test = info_test[\"label\"].values\n",
    "ds_test = TextDataset(ids_test, lbl_test)\n",
    "info_test.head(5)"
   ]
  },
  {
   "cell_type": "code",
   "execution_count": 33,
   "metadata": {},
   "outputs": [],
   "source": [
    "bptt,em_sz,nh,nl = 70,400,1150,3\n",
    "vs = 60002\n",
    "opt_fn = partial(optim.Adam, betas=(0.8, 0.99))\n",
    "bs = 48"
   ]
  },
  {
   "cell_type": "code",
   "execution_count": 34,
   "metadata": {},
   "outputs": [],
   "source": [
    "dl_test = DataLoader(ds_test, bs, transpose=True, num_workers=1, pad_idx=1)\n",
    "md = ModelData(Path('results_rakesh/nn_models/'), None, dl_test)"
   ]
  },
  {
   "cell_type": "code",
   "execution_count": 35,
   "metadata": {},
   "outputs": [],
   "source": [
    "c = 3\n",
    "dps = np.array([0.4,0.5,0.05,0.3,0.4])\n",
    "m = get_rnn_classifier(bptt, 20*70, c, vs, emb_sz=em_sz, n_hid=nh, n_layers=nl, pad_token=1,\n",
    "          layers=[em_sz*3, 50, c], drops=[dps[4], 0.1])"
   ]
  },
  {
   "cell_type": "code",
   "execution_count": 36,
   "metadata": {},
   "outputs": [],
   "source": [
    "# intialize learner model - but weights are loaded from trained model below\n",
    "\n",
    "learn = RNN_Learner(md, TextModel(to_gpu(m)))\n",
    "learn.metrics = [accuracy]"
   ]
  },
  {
   "cell_type": "code",
   "execution_count": 37,
   "metadata": {},
   "outputs": [
    {
     "name": "stdout",
     "output_type": "stream",
     "text": [
      "clas_2_f3\n"
     ]
    }
   ],
   "source": [
    "# loading weights from trained model\n",
    "\n",
    "print ('clas_2_f' + str(fold_index+1))\n",
    "learn.load('clas_2_f' + str(fold_index+1))"
   ]
  },
  {
   "cell_type": "code",
   "execution_count": 38,
   "metadata": {},
   "outputs": [],
   "source": [
    "# prediction - takes a bit of time (~10 mins) to complete!\n",
    "\n",
    "result = learn.predict()    # dl_test is the input to model data object md"
   ]
  },
  {
   "cell_type": "code",
   "execution_count": 40,
   "metadata": {},
   "outputs": [
    {
     "name": "stdout",
     "output_type": "stream",
     "text": [
      "Completed test results\n"
     ]
    }
   ],
   "source": [
    "print (\"Completed test results\")"
   ]
  },
  {
   "cell_type": "code",
   "execution_count": 41,
   "metadata": {},
   "outputs": [],
   "source": [
    "result = softmax(result, axis=1)"
   ]
  },
  {
   "cell_type": "code",
   "execution_count": 42,
   "metadata": {
    "scrolled": true
   },
   "outputs": [],
   "source": [
    "# put results in\n",
    "info_test[\"pred-\"] = result[:,0]\n",
    "info_test[\"pred0\"] = result[:,1]\n",
    "info_test[\"pred+\"] = result[:,2]\n",
    "info_test[\"pred_sub\"] = result[:,2] - result[:,0]"
   ]
  },
  {
   "cell_type": "code",
   "execution_count": 43,
   "metadata": {
    "scrolled": false
   },
   "outputs": [
    {
     "data": {
      "text/html": [
       "<div>\n",
       "<style scoped>\n",
       "    .dataframe tbody tr th:only-of-type {\n",
       "        vertical-align: middle;\n",
       "    }\n",
       "\n",
       "    .dataframe tbody tr th {\n",
       "        vertical-align: top;\n",
       "    }\n",
       "\n",
       "    .dataframe thead th {\n",
       "        text-align: right;\n",
       "    }\n",
       "</style>\n",
       "<table border=\"1\" class=\"dataframe\">\n",
       "  <thead>\n",
       "    <tr style=\"text-align: right;\">\n",
       "      <th></th>\n",
       "      <th>label</th>\n",
       "      <th>1day_ret</th>\n",
       "      <th>article_id</th>\n",
       "      <th>gvkey</th>\n",
       "      <th>date</th>\n",
       "      <th>pred-</th>\n",
       "      <th>pred0</th>\n",
       "      <th>pred+</th>\n",
       "      <th>pred_sub</th>\n",
       "    </tr>\n",
       "  </thead>\n",
       "  <tbody>\n",
       "    <tr>\n",
       "      <th>0</th>\n",
       "      <td>1</td>\n",
       "      <td>0.045434</td>\n",
       "      <td>1443021</td>\n",
       "      <td>024352:01</td>\n",
       "      <td>2012-01-04</td>\n",
       "      <td>0.282042</td>\n",
       "      <td>0.394094</td>\n",
       "      <td>0.323864</td>\n",
       "      <td>0.041822</td>\n",
       "    </tr>\n",
       "    <tr>\n",
       "      <th>1</th>\n",
       "      <td>-1</td>\n",
       "      <td>-0.029125</td>\n",
       "      <td>1442763</td>\n",
       "      <td>010840:01</td>\n",
       "      <td>2012-01-04</td>\n",
       "      <td>0.305955</td>\n",
       "      <td>0.398010</td>\n",
       "      <td>0.296035</td>\n",
       "      <td>-0.009920</td>\n",
       "    </tr>\n",
       "    <tr>\n",
       "      <th>2</th>\n",
       "      <td>-1</td>\n",
       "      <td>-0.103440</td>\n",
       "      <td>1444712</td>\n",
       "      <td>010353:01</td>\n",
       "      <td>2012-01-04</td>\n",
       "      <td>0.206979</td>\n",
       "      <td>0.541856</td>\n",
       "      <td>0.251165</td>\n",
       "      <td>0.044186</td>\n",
       "    </tr>\n",
       "    <tr>\n",
       "      <th>3</th>\n",
       "      <td>0</td>\n",
       "      <td>-0.021495</td>\n",
       "      <td>1384659</td>\n",
       "      <td>162129:01</td>\n",
       "      <td>2012-01-05</td>\n",
       "      <td>0.306637</td>\n",
       "      <td>0.350904</td>\n",
       "      <td>0.342458</td>\n",
       "      <td>0.035821</td>\n",
       "    </tr>\n",
       "    <tr>\n",
       "      <th>4</th>\n",
       "      <td>0</td>\n",
       "      <td>-0.024947</td>\n",
       "      <td>1443938</td>\n",
       "      <td>140760:01</td>\n",
       "      <td>2012-01-05</td>\n",
       "      <td>0.306146</td>\n",
       "      <td>0.359782</td>\n",
       "      <td>0.334072</td>\n",
       "      <td>0.027926</td>\n",
       "    </tr>\n",
       "  </tbody>\n",
       "</table>\n",
       "</div>"
      ],
      "text/plain": [
       "   label  1day_ret  article_id      gvkey        date     pred-     pred0  \\\n",
       "0      1  0.045434     1443021  024352:01  2012-01-04  0.282042  0.394094   \n",
       "1     -1 -0.029125     1442763  010840:01  2012-01-04  0.305955  0.398010   \n",
       "2     -1 -0.103440     1444712  010353:01  2012-01-04  0.206979  0.541856   \n",
       "3      0 -0.021495     1384659  162129:01  2012-01-05  0.306637  0.350904   \n",
       "4      0 -0.024947     1443938  140760:01  2012-01-05  0.306146  0.359782   \n",
       "\n",
       "      pred+  pred_sub  \n",
       "0  0.323864  0.041822  \n",
       "1  0.296035 -0.009920  \n",
       "2  0.251165  0.044186  \n",
       "3  0.342458  0.035821  \n",
       "4  0.334072  0.027926  "
      ]
     },
     "execution_count": 43,
     "metadata": {},
     "output_type": "execute_result"
    }
   ],
   "source": [
    "info_test.head(5)"
   ]
  },
  {
   "cell_type": "code",
   "execution_count": 44,
   "metadata": {},
   "outputs": [],
   "source": [
    "# save\n",
    "info_test.to_csv('results_rakesh/test_results/test_doc_f' + str(fold_index+1) + '.csv', index=False)"
   ]
  },
  {
   "cell_type": "code",
   "execution_count": 46,
   "metadata": {
    "scrolled": true
   },
   "outputs": [
    {
     "data": {
      "text/plain": [
       "SpearmanrResult(correlation=0.06552994793955094, pvalue=0.0001036830260581208)"
      ]
     },
     "execution_count": 46,
     "metadata": {},
     "output_type": "execute_result"
    }
   ],
   "source": [
    "spearmanr(info_test[\"1day_ret\"], info_test[\"pred_sub\"])"
   ]
  },
  {
   "cell_type": "code",
   "execution_count": 47,
   "metadata": {
    "scrolled": false
   },
   "outputs": [
    {
     "data": {
      "text/plain": [
       "SpearmanrResult(correlation=-0.01893321716048928, pvalue=0.26252432326339603)"
      ]
     },
     "execution_count": 47,
     "metadata": {},
     "output_type": "execute_result"
    }
   ],
   "source": [
    "spearmanr(info_test[\"1day_ret\"], info_test[\"pred+\"])"
   ]
  },
  {
   "cell_type": "markdown",
   "metadata": {},
   "source": [
    "#### ran the models and tested above by Rakesh"
   ]
  },
  {
   "cell_type": "markdown",
   "metadata": {},
   "source": [
    "#### this section is to aggregate by gvkey and date...?"
   ]
  },
  {
   "cell_type": "code",
   "execution_count": 40,
   "metadata": {},
   "outputs": [],
   "source": [
    "from collections import defaultdict\n",
    "def col_doc_results(doc_df):\n",
    "    ret_dict = {}\n",
    "    pred_dict = defaultdict(list)\n",
    "    gv_dict = {}\n",
    "    date_dict = {}\n",
    "#     pd.DataFrame(columns=[\"gvkey\", \"date\", \"ret\", \"pred\"])\n",
    "    for i, row in doc_df.iterrows():\n",
    "        key = row[\"gvkey\"] + \"_\" + row[\"date\"]\n",
    "        if(key not in ret_dict):\n",
    "            ret_dict[key] = row[\"ret\"]\n",
    "            gv_dict[key] = row[\"gvkey\"]\n",
    "            date_dict[key] = row[\"date\"]\n",
    "        pred_dict[key].append(row[\"pred_sub\"])\n",
    "    return ret_dict, pred_dict, gv_dict, date_dict"
   ]
  },
  {
   "cell_type": "code",
   "execution_count": 41,
   "metadata": {},
   "outputs": [],
   "source": [
    "ret, pred, gvdict, datedict = col_doc_results(info_test)"
   ]
  },
  {
   "cell_type": "code",
   "execution_count": 42,
   "metadata": {},
   "outputs": [],
   "source": [
    "ret_values = []\n",
    "pred_values = []\n",
    "gv_values = []\n",
    "date_values = []\n",
    "for key in ret:\n",
    "    ret_values.append(ret[key])\n",
    "    pred_values.append(np.mean(pred[key]))\n",
    "    gv_values.append(gvdict[key])\n",
    "    date_values.append(datedict[key])"
   ]
  },
  {
   "cell_type": "code",
   "execution_count": 43,
   "metadata": {
    "scrolled": true
   },
   "outputs": [
    {
     "data": {
      "text/plain": [
       "SpearmanrResult(correlation=0.046409668456836965, pvalue=0.005499897435725016)"
      ]
     },
     "execution_count": 43,
     "metadata": {},
     "output_type": "execute_result"
    }
   ],
   "source": [
    "spearmanr(ret_values, pred_values)"
   ]
  },
  {
   "cell_type": "code",
   "execution_count": 44,
   "metadata": {},
   "outputs": [],
   "source": [
    "event_result = pd.DataFrame({\"gvkey\":gv_values, \"date\":date_values, \"ret\":ret_values, \"pred\":pred_values})"
   ]
  },
  {
   "cell_type": "code",
   "execution_count": 45,
   "metadata": {},
   "outputs": [
    {
     "data": {
      "text/html": [
       "<div>\n",
       "<style scoped>\n",
       "    .dataframe tbody tr th:only-of-type {\n",
       "        vertical-align: middle;\n",
       "    }\n",
       "\n",
       "    .dataframe tbody tr th {\n",
       "        vertical-align: top;\n",
       "    }\n",
       "\n",
       "    .dataframe thead th {\n",
       "        text-align: right;\n",
       "    }\n",
       "</style>\n",
       "<table border=\"1\" class=\"dataframe\">\n",
       "  <thead>\n",
       "    <tr style=\"text-align: right;\">\n",
       "      <th></th>\n",
       "      <th>gvkey</th>\n",
       "      <th>date</th>\n",
       "      <th>ret</th>\n",
       "      <th>pred</th>\n",
       "    </tr>\n",
       "  </thead>\n",
       "  <tbody>\n",
       "    <tr>\n",
       "      <th>0</th>\n",
       "      <td>004560:01</td>\n",
       "      <td>2013-01-03</td>\n",
       "      <td>0.029836</td>\n",
       "      <td>0.002313</td>\n",
       "    </tr>\n",
       "    <tr>\n",
       "      <th>1</th>\n",
       "      <td>011600:01</td>\n",
       "      <td>2013-01-03</td>\n",
       "      <td>0.010128</td>\n",
       "      <td>0.017154</td>\n",
       "    </tr>\n",
       "    <tr>\n",
       "      <th>2</th>\n",
       "      <td>010840:01</td>\n",
       "      <td>2013-01-03</td>\n",
       "      <td>-0.017856</td>\n",
       "      <td>-0.037007</td>\n",
       "    </tr>\n",
       "    <tr>\n",
       "      <th>3</th>\n",
       "      <td>162129:01</td>\n",
       "      <td>2013-01-04</td>\n",
       "      <td>-0.005704</td>\n",
       "      <td>0.023294</td>\n",
       "    </tr>\n",
       "    <tr>\n",
       "      <th>4</th>\n",
       "      <td>025357:01</td>\n",
       "      <td>2013-01-04</td>\n",
       "      <td>0.027231</td>\n",
       "      <td>-0.048935</td>\n",
       "    </tr>\n",
       "  </tbody>\n",
       "</table>\n",
       "</div>"
      ],
      "text/plain": [
       "       gvkey        date       ret      pred\n",
       "0  004560:01  2013-01-03  0.029836  0.002313\n",
       "1  011600:01  2013-01-03  0.010128  0.017154\n",
       "2  010840:01  2013-01-03 -0.017856 -0.037007\n",
       "3  162129:01  2013-01-04 -0.005704  0.023294\n",
       "4  025357:01  2013-01-04  0.027231 -0.048935"
      ]
     },
     "execution_count": 45,
     "metadata": {},
     "output_type": "execute_result"
    }
   ],
   "source": [
    "event_result.head(5)"
   ]
  },
  {
   "cell_type": "code",
   "execution_count": 46,
   "metadata": {},
   "outputs": [],
   "source": [
    "event_result.to_csv('Transcript_Data/10day/results_3cls/test_event_f' + str(fold_index+1) + '.csv', index=False)"
   ]
  },
  {
   "cell_type": "code",
   "execution_count": null,
   "metadata": {},
   "outputs": [],
   "source": []
  },
  {
   "cell_type": "code",
   "execution_count": null,
   "metadata": {},
   "outputs": [],
   "source": []
  },
  {
   "cell_type": "code",
   "execution_count": null,
   "metadata": {},
   "outputs": [],
   "source": []
  },
  {
   "cell_type": "code",
   "execution_count": null,
   "metadata": {},
   "outputs": [],
   "source": [
    "aggregation_functions = {'ret': 'first', 'pred_sub': 'mean', \"pred+\": \"mean\"}\n",
    "newdf = info_test.groupby([\"gvkey\",\"date\"]).aggregate(aggregation_functions)\n",
    "newdf.head(5)"
   ]
  },
  {
   "cell_type": "markdown",
   "metadata": {},
   "source": [
    "## colapse doc results to event - OLD METHOD"
   ]
  },
  {
   "cell_type": "code",
   "execution_count": 32,
   "metadata": {
    "scrolled": false
   },
   "outputs": [],
   "source": [
    "ret_train = pd.read_csv('Transcript_Data/1day/ret_1d_all/train_f' + str(fold_index+1) + '.csv',\n",
    "                        parse_dates=[2], index_col=0)\n",
    "ret_test = pd.read_csv('Transcript_Data/1day/ret_1d_all/test_f' + str(fold_index+1) + '.csv',\n",
    "                       parse_dates=[2], index_col=0)"
   ]
  },
  {
   "cell_type": "code",
   "execution_count": 17,
   "metadata": {
    "scrolled": true
   },
   "outputs": [
    {
     "data": {
      "text/html": [
       "<div>\n",
       "<style scoped>\n",
       "    .dataframe tbody tr th:only-of-type {\n",
       "        vertical-align: middle;\n",
       "    }\n",
       "\n",
       "    .dataframe tbody tr th {\n",
       "        vertical-align: top;\n",
       "    }\n",
       "\n",
       "    .dataframe thead th {\n",
       "        text-align: right;\n",
       "    }\n",
       "</style>\n",
       "<table border=\"1\" class=\"dataframe\">\n",
       "  <thead>\n",
       "    <tr style=\"text-align: right;\">\n",
       "      <th></th>\n",
       "      <th>gvkey</th>\n",
       "      <th>date</th>\n",
       "      <th>fwd_ret</th>\n",
       "      <th>fwd_ret_category</th>\n",
       "    </tr>\n",
       "  </thead>\n",
       "  <tbody>\n",
       "    <tr>\n",
       "      <th>0</th>\n",
       "      <td>016453:01</td>\n",
       "      <td>2011-01-04</td>\n",
       "      <td>-0.081032</td>\n",
       "      <td>-1</td>\n",
       "    </tr>\n",
       "    <tr>\n",
       "      <th>0</th>\n",
       "      <td>162129:01</td>\n",
       "      <td>2011-01-05</td>\n",
       "      <td>-0.027223</td>\n",
       "      <td>-1</td>\n",
       "    </tr>\n",
       "    <tr>\n",
       "      <th>1</th>\n",
       "      <td>004560:01</td>\n",
       "      <td>2011-01-05</td>\n",
       "      <td>0.014818</td>\n",
       "      <td>0</td>\n",
       "    </tr>\n",
       "    <tr>\n",
       "      <th>2</th>\n",
       "      <td>011600:01</td>\n",
       "      <td>2011-01-05</td>\n",
       "      <td>-0.001175</td>\n",
       "      <td>0</td>\n",
       "    </tr>\n",
       "    <tr>\n",
       "      <th>3</th>\n",
       "      <td>023697:01</td>\n",
       "      <td>2011-01-05</td>\n",
       "      <td>-0.064765</td>\n",
       "      <td>-1</td>\n",
       "    </tr>\n",
       "  </tbody>\n",
       "</table>\n",
       "</div>"
      ],
      "text/plain": [
       "       gvkey       date   fwd_ret  fwd_ret_category\n",
       "0  016453:01 2011-01-04 -0.081032                -1\n",
       "0  162129:01 2011-01-05 -0.027223                -1\n",
       "1  004560:01 2011-01-05  0.014818                 0\n",
       "2  011600:01 2011-01-05 -0.001175                 0\n",
       "3  023697:01 2011-01-05 -0.064765                -1"
      ]
     },
     "execution_count": 17,
     "metadata": {},
     "output_type": "execute_result"
    }
   ],
   "source": [
    "ret_test.head(5)"
   ]
  },
  {
   "cell_type": "code",
   "execution_count": 18,
   "metadata": {
    "scrolled": true
   },
   "outputs": [
    {
     "data": {
      "text/html": [
       "<div>\n",
       "<style scoped>\n",
       "    .dataframe tbody tr th:only-of-type {\n",
       "        vertical-align: middle;\n",
       "    }\n",
       "\n",
       "    .dataframe tbody tr th {\n",
       "        vertical-align: top;\n",
       "    }\n",
       "\n",
       "    .dataframe thead th {\n",
       "        text-align: right;\n",
       "    }\n",
       "</style>\n",
       "<table border=\"1\" class=\"dataframe\">\n",
       "  <thead>\n",
       "    <tr style=\"text-align: right;\">\n",
       "      <th></th>\n",
       "      <th>gvkey</th>\n",
       "      <th>CUSIP</th>\n",
       "      <th>SEDOL</th>\n",
       "      <th>TIC</th>\n",
       "      <th>ISIN</th>\n",
       "      <th>transcript_id</th>\n",
       "      <th>factset_entity_Id</th>\n",
       "      <th>fsym_id</th>\n",
       "      <th>proper_name</th>\n",
       "      <th>fsym_primary_listing_id</th>\n",
       "      <th>ticker_region</th>\n",
       "      <th>company_id</th>\n",
       "      <th>event_date</th>\n",
       "    </tr>\n",
       "  </thead>\n",
       "  <tbody>\n",
       "    <tr>\n",
       "      <th>0</th>\n",
       "      <td>002710:02</td>\n",
       "      <td>21036P108</td>\n",
       "      <td>2170473</td>\n",
       "      <td>STZ</td>\n",
       "      <td>US21036P1084</td>\n",
       "      <td>1048233</td>\n",
       "      <td>000CN7-E</td>\n",
       "      <td>QZ2Q0V-S</td>\n",
       "      <td>Constellation Brands, Inc. Class A</td>\n",
       "      <td>RK3HS8-R</td>\n",
       "      <td>STZ-US</td>\n",
       "      <td>818</td>\n",
       "      <td>2007-01-04</td>\n",
       "    </tr>\n",
       "    <tr>\n",
       "      <th>1</th>\n",
       "      <td>008902:01</td>\n",
       "      <td>749685103</td>\n",
       "      <td>2756174</td>\n",
       "      <td>RPM</td>\n",
       "      <td>US7496851038</td>\n",
       "      <td>1047794</td>\n",
       "      <td>000VLT-E</td>\n",
       "      <td>DF312T-S</td>\n",
       "      <td>RPM International Inc.</td>\n",
       "      <td>LN3YSL-R</td>\n",
       "      <td>RPM-US</td>\n",
       "      <td>1299</td>\n",
       "      <td>2007-01-04</td>\n",
       "    </tr>\n",
       "    <tr>\n",
       "      <th>2</th>\n",
       "      <td>009472:01</td>\n",
       "      <td>808194104</td>\n",
       "      <td>2779342</td>\n",
       "      <td>SHLM</td>\n",
       "      <td>US8081941044</td>\n",
       "      <td>1048056</td>\n",
       "      <td>000VS7-E</td>\n",
       "      <td>TSDFC1-S</td>\n",
       "      <td>A. Schulman, Inc.</td>\n",
       "      <td>CRJZ1Y-R</td>\n",
       "      <td>SHLM-US</td>\n",
       "      <td>2518</td>\n",
       "      <td>2007-01-04</td>\n",
       "    </tr>\n",
       "  </tbody>\n",
       "</table>\n",
       "</div>"
      ],
      "text/plain": [
       "       gvkey      CUSIP    SEDOL   TIC          ISIN  transcript_id  \\\n",
       "0  002710:02  21036P108  2170473   STZ  US21036P1084        1048233   \n",
       "1  008902:01  749685103  2756174   RPM  US7496851038        1047794   \n",
       "2  009472:01  808194104  2779342  SHLM  US8081941044        1048056   \n",
       "\n",
       "  factset_entity_Id   fsym_id                         proper_name  \\\n",
       "0          000CN7-E  QZ2Q0V-S  Constellation Brands, Inc. Class A   \n",
       "1          000VLT-E  DF312T-S              RPM International Inc.   \n",
       "2          000VS7-E  TSDFC1-S                   A. Schulman, Inc.   \n",
       "\n",
       "  fsym_primary_listing_id ticker_region  company_id event_date  \n",
       "0                RK3HS8-R        STZ-US         818 2007-01-04  \n",
       "1                LN3YSL-R        RPM-US        1299 2007-01-04  \n",
       "2                CRJZ1Y-R       SHLM-US        2518 2007-01-04  "
      ]
     },
     "execution_count": 18,
     "metadata": {},
     "output_type": "execute_result"
    }
   ],
   "source": [
    "art_map = pd.read_csv(\"Transcript_Data/transcript_mapping.csv\", index_col=0, parse_dates=[13])\n",
    "art_map.head(3)"
   ]
  },
  {
   "cell_type": "code",
   "execution_count": 19,
   "metadata": {},
   "outputs": [],
   "source": [
    "art_path = Path(\"Transcript_Data/transcripts.pkl\")\n",
    "art_dict = pickle.load(open(art_path, \"rb\"))"
   ]
  },
  {
   "cell_type": "code",
   "execution_count": 20,
   "metadata": {
    "scrolled": true
   },
   "outputs": [
    {
     "name": "stdout",
     "output_type": "stream",
     "text": [
      "1 3448\n",
      "2 3448\n",
      "9 3448\n",
      "16 3448\n",
      "29 3448\n",
      "32 3448\n",
      "36 3448\n",
      "40 3448\n",
      "50 3448\n",
      "68 3448\n",
      "89 3448\n",
      "118 3448\n",
      "126 3448\n",
      "176 3448\n",
      "232 3448\n",
      "333 3448\n",
      "394 3448\n",
      "410 3448\n",
      "463 3448\n",
      "513 3448\n",
      "620 3448\n",
      "692 3448\n",
      "703 3448\n",
      "756 3448\n",
      "815 3448\n",
      "895 3448\n",
      "938 3448\n",
      "981 3448\n",
      "1115 3448\n",
      "1167 3448\n",
      "1202 3448\n",
      "1356 3448\n",
      "1423 3448\n",
      "1443 3448\n",
      "1478 3448\n",
      "1503 3448\n",
      "1557 3448\n",
      "1560 3448\n",
      "1573 3448\n",
      "1587 3448\n",
      "1622 3448\n",
      "1626 3448\n",
      "1642 3448\n",
      "1654 3448\n",
      "1658 3448\n",
      "1659 3448\n",
      "1663 3448\n",
      "1671 3448\n",
      "1685 3448\n",
      "1691 3448\n",
      "1697 3448\n",
      "1704 3448\n",
      "1708 3448\n",
      "1713 3448\n",
      "1719 3448\n",
      "1722 3448\n",
      "1733 3448\n",
      "1735 3448\n",
      "1737 3448\n",
      "1740 3448\n",
      "1754 3448\n",
      "1764 3448\n",
      "1793 3448\n",
      "1840 3448\n",
      "1971 3448\n",
      "2070 3448\n",
      "2201 3448\n",
      "2406 3448\n",
      "2528 3448\n",
      "2550 3448\n",
      "2666 3448\n",
      "2796 3448\n",
      "2985 3448\n",
      "3175 3448\n",
      "3205 3448\n",
      "3222 3448\n",
      "3229 3448\n",
      "3233 3448\n",
      "3243 3448\n",
      "3257 3448\n",
      "3278 3448\n",
      "3294 3448\n",
      "3299 3448\n",
      "3304 3448\n",
      "3316 3448\n",
      "3333 3448\n",
      "3340 3448\n",
      "3348 3448\n",
      "3352 3448\n",
      "3358 3448\n",
      "3370 3448\n",
      "3378 3448\n",
      "3380 3448\n",
      "3381 3448\n",
      "3385 3448\n",
      "3387 3448\n",
      "3394 3448\n",
      "3397 3448\n",
      "3405 3448\n",
      "3416 3448\n",
      "3422 3448\n",
      "3423 3448\n",
      "3426 3448\n",
      "3437 3448\n",
      "3442 3448\n"
     ]
    }
   ],
   "source": [
    "pred_return = []\n",
    "true_return = []\n",
    "counter = 0\n",
    "for i, row in ret_test.iterrows():\n",
    "    label = row['one_day_ret']\n",
    "    gvkey = row['gvkey']\n",
    "    date = row['date']\n",
    "    indx = (art_map['gvkey'] == gvkey) & (art_map['event_date'] == date)\n",
    "    num_doc = sum(indx)  # number of document for event\n",
    "    if num_doc == 0:\n",
    "        continue\n",
    "    \n",
    "    art_ids = art_map[indx]['transcript_id']\n",
    "\n",
    "    filt_ids = []\n",
    "    for id in art_ids:\n",
    "        if id in art_dict:\n",
    "            filt_ids.append(id)\n",
    "    num_doc = len(filt_ids)\n",
    "    \n",
    "    if num_doc == 0:\n",
    "        continue\n",
    "        \n",
    "    result_set = result[counter:counter + num_doc, 1]\n",
    "#         print(result_set)\n",
    "    true_return.append(label)\n",
    "    pred_return.append( np.mean(result_set) )\n",
    "#     print(true_return)\n",
    "#     print(pred_return)\n",
    "#     break\n",
    "    counter += num_doc\n",
    "    if i % 500 == 0:\n",
    "        print(str(counter) + \" \" + str(len(result)))"
   ]
  },
  {
   "cell_type": "code",
   "execution_count": 21,
   "metadata": {},
   "outputs": [
    {
     "data": {
      "text/plain": [
       "3412"
      ]
     },
     "execution_count": 21,
     "metadata": {},
     "output_type": "execute_result"
    }
   ],
   "source": [
    "len(pred_return)"
   ]
  },
  {
   "cell_type": "code",
   "execution_count": 22,
   "metadata": {},
   "outputs": [],
   "source": [
    "from scipy.stats import spearmanr"
   ]
  },
  {
   "cell_type": "code",
   "execution_count": 23,
   "metadata": {},
   "outputs": [
    {
     "data": {
      "text/plain": [
       "SpearmanrResult(correlation=0.006701956576526852, pvalue=0.6955475371557087)"
      ]
     },
     "execution_count": 23,
     "metadata": {},
     "output_type": "execute_result"
    }
   ],
   "source": [
    "spearmanr(pred_return, true_return)"
   ]
  },
  {
   "cell_type": "code",
   "execution_count": null,
   "metadata": {},
   "outputs": [],
   "source": [
    "pred_return"
   ]
  },
  {
   "cell_type": "code",
   "execution_count": null,
   "metadata": {},
   "outputs": [],
   "source": [
    "true_return"
   ]
  },
  {
   "cell_type": "code",
   "execution_count": null,
   "metadata": {},
   "outputs": [],
   "source": []
  },
  {
   "cell_type": "code",
   "execution_count": null,
   "metadata": {},
   "outputs": [],
   "source": []
  }
 ],
 "metadata": {
  "kernelspec": {
   "display_name": "Python 3.6 (fastai)",
   "language": "python",
   "name": "fastai"
  },
  "language_info": {
   "codemirror_mode": {
    "name": "ipython",
    "version": 3
   },
   "file_extension": ".py",
   "mimetype": "text/x-python",
   "name": "python",
   "nbconvert_exporter": "python",
   "pygments_lexer": "ipython3",
   "version": "3.6.6"
  }
 },
 "nbformat": 4,
 "nbformat_minor": 2
}
