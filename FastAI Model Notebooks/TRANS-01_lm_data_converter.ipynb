{
 "cells": [
  {
   "cell_type": "code",
   "execution_count": 1,
   "metadata": {},
   "outputs": [],
   "source": [
    "from fastai.fastai.text import *\n",
    "import pickle"
   ]
  },
  {
   "cell_type": "code",
   "execution_count": 2,
   "metadata": {},
   "outputs": [
    {
     "data": {
      "text/plain": [
       "PosixPath('/home/ubuntu/Project')"
      ]
     },
     "execution_count": 2,
     "metadata": {},
     "output_type": "execute_result"
    }
   ],
   "source": [
    "Path.cwd()"
   ]
  },
  {
   "cell_type": "code",
   "execution_count": 3,
   "metadata": {},
   "outputs": [
    {
     "name": "stdout",
     "output_type": "stream",
     "text": [
      "/home/ubuntu/Project/DataTranscript/transcripts.pkl\n"
     ]
    }
   ],
   "source": [
    "art_path = Path(\"DataTranscript/transcripts.pkl\")\n",
    "print(art_path.absolute())\n",
    "art_dict = pickle.load(open(art_path, \"rb\"))"
   ]
  },
  {
   "cell_type": "code",
   "execution_count": 4,
   "metadata": {},
   "outputs": [],
   "source": [
    "art_dict = pd.DataFrame.from_dict(art_dict)"
   ]
  },
  {
   "cell_type": "code",
   "execution_count": 5,
   "metadata": {},
   "outputs": [],
   "source": [
    "art_dict = art_dict.transpose()"
   ]
  },
  {
   "cell_type": "code",
   "execution_count": 6,
   "metadata": {},
   "outputs": [
    {
     "data": {
      "text/html": [
       "<div>\n",
       "<style scoped>\n",
       "    .dataframe tbody tr th:only-of-type {\n",
       "        vertical-align: middle;\n",
       "    }\n",
       "\n",
       "    .dataframe tbody tr th {\n",
       "        vertical-align: top;\n",
       "    }\n",
       "\n",
       "    .dataframe thead th {\n",
       "        text-align: right;\n",
       "    }\n",
       "</style>\n",
       "<table border=\"1\" class=\"dataframe\">\n",
       "  <thead>\n",
       "    <tr style=\"text-align: right;\">\n",
       "      <th></th>\n",
       "      <th>text</th>\n",
       "    </tr>\n",
       "  </thead>\n",
       "  <tbody>\n",
       "    <tr>\n",
       "      <th>1572864</th>\n",
       "      <td>\\n    \\n    \\n    I would now like to introduc...</td>\n",
       "    </tr>\n",
       "    <tr>\n",
       "      <th>1900544</th>\n",
       "      <td>\\n    \\n    \\n    Good morning. My name is Rac...</td>\n",
       "    </tr>\n",
       "    <tr>\n",
       "      <th>1594710</th>\n",
       "      <td>\\n    \\n    \\n    Following today's presentati...</td>\n",
       "    </tr>\n",
       "    <tr>\n",
       "      <th>1073672</th>\n",
       "      <td>\\n    \\n    \\n    At this time, I would like t...</td>\n",
       "    </tr>\n",
       "    <tr>\n",
       "      <th>1811264</th>\n",
       "      <td>\\n    \\n    \\n    At this time, I would like t...</td>\n",
       "    </tr>\n",
       "    <tr>\n",
       "      <th>1463639</th>\n",
       "      <td>\\n    \\n    \\n    Ms. Shiflett, please go ahea...</td>\n",
       "    </tr>\n",
       "    <tr>\n",
       "      <th>1966096</th>\n",
       "      <td>\\n    \\n    \\n    At this time, I would turn t...</td>\n",
       "    </tr>\n",
       "    <tr>\n",
       "      <th>1966099</th>\n",
       "      <td>\\n    \\n    \\n    At this time, I would like t...</td>\n",
       "    </tr>\n",
       "    <tr>\n",
       "      <th>1966100</th>\n",
       "      <td>\\n    \\n    \\n    This call will be available ...</td>\n",
       "    </tr>\n",
       "    <tr>\n",
       "      <th>1966101</th>\n",
       "      <td>\\n    \\n    \\n    I would now like to turn the...</td>\n",
       "    </tr>\n",
       "  </tbody>\n",
       "</table>\n",
       "</div>"
      ],
      "text/plain": [
       "                                                      text\n",
       "1572864  \\n    \\n    \\n    I would now like to introduc...\n",
       "1900544  \\n    \\n    \\n    Good morning. My name is Rac...\n",
       "1594710  \\n    \\n    \\n    Following today's presentati...\n",
       "1073672  \\n    \\n    \\n    At this time, I would like t...\n",
       "1811264  \\n    \\n    \\n    At this time, I would like t...\n",
       "1463639  \\n    \\n    \\n    Ms. Shiflett, please go ahea...\n",
       "1966096  \\n    \\n    \\n    At this time, I would turn t...\n",
       "1966099  \\n    \\n    \\n    At this time, I would like t...\n",
       "1966100  \\n    \\n    \\n    This call will be available ...\n",
       "1966101  \\n    \\n    \\n    I would now like to turn the..."
      ]
     },
     "execution_count": 6,
     "metadata": {},
     "output_type": "execute_result"
    }
   ],
   "source": [
    "art_dict.head(10)"
   ]
  },
  {
   "cell_type": "code",
   "execution_count": 7,
   "metadata": {},
   "outputs": [
    {
     "data": {
      "text/plain": [
       "84399"
      ]
     },
     "execution_count": 7,
     "metadata": {},
     "output_type": "execute_result"
    }
   ],
   "source": [
    "n_doc = len(art_dict)\n",
    "n_doc"
   ]
  },
  {
   "cell_type": "code",
   "execution_count": 8,
   "metadata": {},
   "outputs": [],
   "source": [
    "np.random.seed(42)\n",
    "all_idx = np.random.permutation(n_doc)\n",
    "art_dict = art_dict.iloc[all_idx]"
   ]
  },
  {
   "cell_type": "code",
   "execution_count": 9,
   "metadata": {},
   "outputs": [
    {
     "data": {
      "text/html": [
       "<div>\n",
       "<style scoped>\n",
       "    .dataframe tbody tr th:only-of-type {\n",
       "        vertical-align: middle;\n",
       "    }\n",
       "\n",
       "    .dataframe tbody tr th {\n",
       "        vertical-align: top;\n",
       "    }\n",
       "\n",
       "    .dataframe thead th {\n",
       "        text-align: right;\n",
       "    }\n",
       "</style>\n",
       "<table border=\"1\" class=\"dataframe\">\n",
       "  <thead>\n",
       "    <tr style=\"text-align: right;\">\n",
       "      <th></th>\n",
       "      <th>text</th>\n",
       "    </tr>\n",
       "  </thead>\n",
       "  <tbody>\n",
       "    <tr>\n",
       "      <th>1779611</th>\n",
       "      <td>\\n    \\n    \\n    It is now my pleasure to tur...</td>\n",
       "    </tr>\n",
       "    <tr>\n",
       "      <th>1205713</th>\n",
       "      <td>\\n    \\n    \\n    Good morning.  My name is Br...</td>\n",
       "    </tr>\n",
       "    <tr>\n",
       "      <th>1340059</th>\n",
       "      <td>\\n    \\n    \\n    Ms. Willis, please go ahead\\...</td>\n",
       "    </tr>\n",
       "    <tr>\n",
       "      <th>1177897</th>\n",
       "      <td>\\n    \\n    \\n    I would now like to turn the...</td>\n",
       "    </tr>\n",
       "    <tr>\n",
       "      <th>1967369</th>\n",
       "      <td>\\n    \\n    \\n    At this time, for opening re...</td>\n",
       "    </tr>\n",
       "    <tr>\n",
       "      <th>1320504</th>\n",
       "      <td>\\n    \\n    \\n    \\n    This conference, inclu...</td>\n",
       "    </tr>\n",
       "    <tr>\n",
       "      <th>1145426</th>\n",
       "      <td>\\n    \\n    \\n    I would like to now turn the...</td>\n",
       "    </tr>\n",
       "    <tr>\n",
       "      <th>1086977</th>\n",
       "      <td>\\n    \\n    \\n    Now I would like to turn the...</td>\n",
       "    </tr>\n",
       "    <tr>\n",
       "      <th>1594887</th>\n",
       "      <td>\\n    \\n    \\n    And I would now like to turn...</td>\n",
       "    </tr>\n",
       "    <tr>\n",
       "      <th>1758532</th>\n",
       "      <td>\\n    \\n    \\n    And I would now like to turn...</td>\n",
       "    </tr>\n",
       "  </tbody>\n",
       "</table>\n",
       "</div>"
      ],
      "text/plain": [
       "                                                      text\n",
       "1779611  \\n    \\n    \\n    It is now my pleasure to tur...\n",
       "1205713  \\n    \\n    \\n    Good morning.  My name is Br...\n",
       "1340059  \\n    \\n    \\n    Ms. Willis, please go ahead\\...\n",
       "1177897  \\n    \\n    \\n    I would now like to turn the...\n",
       "1967369  \\n    \\n    \\n    At this time, for opening re...\n",
       "1320504  \\n    \\n    \\n    \\n    This conference, inclu...\n",
       "1145426  \\n    \\n    \\n    I would like to now turn the...\n",
       "1086977  \\n    \\n    \\n    Now I would like to turn the...\n",
       "1594887  \\n    \\n    \\n    And I would now like to turn...\n",
       "1758532  \\n    \\n    \\n    And I would now like to turn..."
      ]
     },
     "execution_count": 9,
     "metadata": {},
     "output_type": "execute_result"
    }
   ],
   "source": [
    "art_dict.head(10)"
   ]
  },
  {
   "cell_type": "code",
   "execution_count": 10,
   "metadata": {},
   "outputs": [
    {
     "data": {
      "text/plain": [
       "80399"
      ]
     },
     "execution_count": 10,
     "metadata": {},
     "output_type": "execute_result"
    }
   ],
   "source": [
    "test_size = 4000\n",
    "train_size = n_doc - test_size\n",
    "train_size"
   ]
  },
  {
   "cell_type": "code",
   "execution_count": 11,
   "metadata": {},
   "outputs": [],
   "source": [
    "train_data = art_dict.iloc[:train_size]\n",
    "test_data = art_dict.iloc[-test_size:]"
   ]
  },
  {
   "cell_type": "code",
   "execution_count": 12,
   "metadata": {},
   "outputs": [
    {
     "data": {
      "text/html": [
       "<div>\n",
       "<style scoped>\n",
       "    .dataframe tbody tr th:only-of-type {\n",
       "        vertical-align: middle;\n",
       "    }\n",
       "\n",
       "    .dataframe tbody tr th {\n",
       "        vertical-align: top;\n",
       "    }\n",
       "\n",
       "    .dataframe thead th {\n",
       "        text-align: right;\n",
       "    }\n",
       "</style>\n",
       "<table border=\"1\" class=\"dataframe\">\n",
       "  <thead>\n",
       "    <tr style=\"text-align: right;\">\n",
       "      <th></th>\n",
       "      <th>text</th>\n",
       "    </tr>\n",
       "  </thead>\n",
       "  <tbody>\n",
       "    <tr>\n",
       "      <th>1967556</th>\n",
       "      <td>\\n    \\n    \\n    I would now like to turn the...</td>\n",
       "    </tr>\n",
       "    <tr>\n",
       "      <th>1659135</th>\n",
       "      <td>\\n    \\n    \\n    It is now my pleasure to int...</td>\n",
       "    </tr>\n",
       "    <tr>\n",
       "      <th>1330765</th>\n",
       "      <td>\\n    \\n    \\n    Welcome back.  I hope you en...</td>\n",
       "    </tr>\n",
       "    <tr>\n",
       "      <th>1574129</th>\n",
       "      <td>\\n    \\n    \\n    Luminex Corp. (LMNX)\\n    Q2...</td>\n",
       "    </tr>\n",
       "    <tr>\n",
       "      <th>1204417</th>\n",
       "      <td>\\n    \\n    \\n    \\n    \\n    \\n    \\n    With...</td>\n",
       "    </tr>\n",
       "  </tbody>\n",
       "</table>\n",
       "</div>"
      ],
      "text/plain": [
       "                                                      text\n",
       "1967556  \\n    \\n    \\n    I would now like to turn the...\n",
       "1659135  \\n    \\n    \\n    It is now my pleasure to int...\n",
       "1330765  \\n    \\n    \\n    Welcome back.  I hope you en...\n",
       "1574129  \\n    \\n    \\n    Luminex Corp. (LMNX)\\n    Q2...\n",
       "1204417  \\n    \\n    \\n    \\n    \\n    \\n    \\n    With..."
      ]
     },
     "execution_count": 12,
     "metadata": {},
     "output_type": "execute_result"
    }
   ],
   "source": [
    "test_data.tail(5)"
   ]
  },
  {
   "cell_type": "code",
   "execution_count": 13,
   "metadata": {},
   "outputs": [
    {
     "data": {
      "text/plain": [
       "text    \\n    \\n    \\n    Good morning.  My name is Br...\n",
       "Name: 1205713, dtype: object"
      ]
     },
     "execution_count": 13,
     "metadata": {},
     "output_type": "execute_result"
    }
   ],
   "source": [
    "art_dict.iloc[1]"
   ]
  },
  {
   "cell_type": "code",
   "execution_count": 17,
   "metadata": {},
   "outputs": [],
   "source": [
    "train_art_id = pd.DataFrame(train_data.index.values)\n",
    "train_art_id.to_csv(\"DataTranscript/lm/lm_train_art_id.csv\", header=None, index=False)"
   ]
  },
  {
   "cell_type": "code",
   "execution_count": 18,
   "metadata": {},
   "outputs": [],
   "source": [
    "test_art_id = pd.DataFrame(test_data.index.values)\n",
    "test_art_id.to_csv(\"DataTranscript/lm/lm_test_art_id.csv\", header=None, index=False)"
   ]
  },
  {
   "cell_type": "code",
   "execution_count": 28,
   "metadata": {},
   "outputs": [
    {
     "name": "stdout",
     "output_type": "stream",
     "text": [
      "10000 80399\n",
      "20000 80399\n",
      "30000 80399\n",
      "40000 80399\n",
      "50000 80399\n",
      "60000 80399\n",
      "70000 80399\n",
      "80000 80399\n"
     ]
    }
   ],
   "source": [
    "out_text = []\n",
    "with open(\"DataTranscript/lm/lm_train.txt\", \"w\", encoding=\"utf-8\") as f:\n",
    "    for i, row in train_data.iterrows():\n",
    "        out_text.append(\" -text- \" + row[\"text\"].replace(\"\\n\", \" crlf \") + \"\\n\")\n",
    "        if len(out_text) % 10000 == 0:\n",
    "            print(str(len(out_text)) + \" \" + str(len(train_data)))\n",
    "    \n",
    "    out_text = pd.DataFrame(out_text)\n",
    "    out_text.to_csv(f, header=None, index=False)"
   ]
  },
  {
   "cell_type": "code",
   "execution_count": 29,
   "metadata": {},
   "outputs": [],
   "source": [
    "out_text = []\n",
    "with open(\"DataTranscript/lm/lm_test.txt\", \"w\", encoding=\"utf-8\") as f:\n",
    "    for i, row in test_data.iterrows():\n",
    "        out_text.append(\" -text- \" + row[\"text\"].replace(\"\\n\", \" crlf \") + \"\\n\")\n",
    "        if len(out_text) % 10000 == 0:\n",
    "            print(str(len(out_text)) + \" \" + str(len(test_data)))\n",
    "    out_text = pd.DataFrame(out_text)\n",
    "    out_text.to_csv(f, header=None, index=False)"
   ]
  },
  {
   "cell_type": "code",
   "execution_count": null,
   "metadata": {},
   "outputs": [],
   "source": []
  }
 ],
 "metadata": {
  "kernelspec": {
   "display_name": "Python 3.6 (fastai)",
   "language": "python",
   "name": "fastai"
  },
  "language_info": {
   "codemirror_mode": {
    "name": "ipython",
    "version": 3
   },
   "file_extension": ".py",
   "mimetype": "text/x-python",
   "name": "python",
   "nbconvert_exporter": "python",
   "pygments_lexer": "ipython3",
   "version": "3.6.6"
  }
 },
 "nbformat": 4,
 "nbformat_minor": 2
}
