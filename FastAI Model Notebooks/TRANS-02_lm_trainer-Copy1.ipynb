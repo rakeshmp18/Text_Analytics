{
 "cells": [
  {
   "cell_type": "code",
   "execution_count": 1,
   "metadata": {},
   "outputs": [],
   "source": [
    "from fastai.fastai.text import *\n",
    "import pickle"
   ]
  },
  {
   "cell_type": "code",
   "execution_count": 2,
   "metadata": {},
   "outputs": [],
   "source": [
    "chunksize=24000"
   ]
  },
  {
   "cell_type": "code",
   "execution_count": 4,
   "metadata": {},
   "outputs": [
    {
     "data": {
      "text/plain": [
       "24000"
      ]
     },
     "execution_count": 4,
     "metadata": {},
     "output_type": "execute_result"
    }
   ],
   "source": [
    "chunksize"
   ]
  },
  {
   "cell_type": "code",
   "execution_count": 5,
   "metadata": {
    "scrolled": true
   },
   "outputs": [
    {
     "data": {
      "text/plain": [
       "array([\" -text-  crlf      crlf      crlf     I would now like to turn the call over to Ms. Lily Arteaga, VP of Investor Relations for ILG. Ma'am, you may begin your conference. crlf      crlf      crlf      crlf      crlf     I want to remind you that on our call we will discuss our outlook for future performance and other items that are not historical facts. These forward-looking statements typically are preceded by words such as, we expect, we believe, we anticipate or similar statements. These forward-looking statements are subject to risks, assumptions and uncertainties and our actual results may differ materially from these forward-looking statements in the views expressed today. crlf     Some of these risks have been set forth in our fourth quarter 2017 press release issued earlier today in our Form 10-K and another periodic reports filed with the SEC. In addition, ILG disclaims any intent or obligation to update these forward-looking statements, except as expressly required by law. crlf     We will also discuss certain non-GAAP measures in connection with ILG's financial performance. I refer you to our press release and other materials posted on the Investor Relations section of our website at www.ilg.com for comparable GAAP measures and full reconciliations. crlf     And now I'd like to turn the call over to Craig. crlf      crlf      crlf      crlf      crlf     Thanks, Lily, and good afternoon to everyone. Thank you for joining. ILG's fourth quarter and full-year 2017 earnings call. I'm pleased to report that we delivered strong financial and operating results for the year despite the impact of the hurricanes. Revenue and adjusted EBITDA were $1.8 billion and $346 million, respectively, and consolidated timeshare contract sales on a pro forma basis increased 11% which excluding the impact of the hurricanes would have been 15%, all in line with our guidance. In addition, we returned a total of $102 million to shareholders through dividends and buybacks, representing 80% of our free cash flow for the year. crlf     Before I expand on our results, I want to recap the impacts to our operations of the worst hurricane season that I can recall, and I have lived in South Florida all my life. Hurricanes Irma and Maria caused significant damage in the U.S. Virgin Islands, St. Maarten, Puerto Rico, and Florida. In our case, they impacted several Vistana and Hyatt Vacation Ownership Resorts and Sales Centers in addition to nearly 300 properties within the Interval Network or managed by us on behalf of third parties. crlf     Although many of the resorts were only affected for a brief period, at year end, approximately 50 Interval Network-affiliated properties remained close. In addition, our Westin St. John Resort Villas and Hyatt Residence Club in Puerto Rico need to be rebuilt. We have begun this process and currently expect both resorts to reopen early in 2019. crlf     In the face of this adversity, however, I could not be prouder of the entire ILG family. Through the tireless work of our associates around the globe, we were able to keep our operations running smoothly while keeping our associates and guests safe. crlf     In addition, I'm pleased to report that through our original donation and generous contributions from employees and partners, we have been able to help those in most need through the ILG Relief Fund which today has extended grants to over 460 associates in Puerto Rico, the U.S. Virgin Islands and Florida. Bill will expand on the financial impact of the hurricanes when he reviews the results, but first I would like to touch on a few key points. crlf     We estimate the hurricanes adversely impacted revenue and adjusted EBITDA in 2017 by $21 million and $9 million, respectively. Excluding this impact, revenue and adjusted EBITDA would have been in line with the outlook we provided at this time last year. These results continue to reflect successful execution of our growth strategy across our Vistana and HBO platforms. crlf     As I mentioned earlier, excluding the estimated impact of the hurricanes, consolidated timeshare contract sales would have increased by 15% at the higher end of the guidance we provided last February. This robust performance which comes on the back of a 14% pro forma increase in 2016 resulted from the contribution of our new Western Nanea and the Western Los Cabos galleries and solid same-store sales primarily driven by growth in the number of vacation ownership units in our portfolio. In 2017, we expanded the number of VO units available for occupancy by nearly 700. crlf     In aggregate, the portfolio and thus the accommodations available to house on-campus tours, increased nearly 11%. Tour flow increased 10% in the year. And excluding the impact of the hurricanes, we estimate it would have increased 14%. crlf     Nearly 60% of the sales growth in the year came from new buyers, driven by higher volume of rental guests, as well as improved performance at our off-premise marketing locations, primarily in Hawaii and Orlando. Sales to new buyers represented 44% of consolidated timeshare contract sales in the year. crlf     At this time last year, we laid out an ambitious plan for 2017 and I am pleased to report that despite a very damaging hurricane season, we made great progress toward those goals. crlf     With respect to our Vacation Ownership segment, we successfully delivered on a demanding development plan. First and foremost, through the commendable execution across the organization, we opened the Westin Nanea Ocean Villas and the Westin Los Cabos Resort Villas and Spa within 13 days of each other. The 390-unit Westin Nanea resort was actually completed ahead of schedule and under budget, benefiting our cost of sales for the year. crlf     Last year, we also completed expansions at our Westin Desert Willow property in Palm Desert, California, our Hyatt Residence Club in San Antonio, have finished the conversion of our Sheraton Steamboat property, more than doubling the number of VO units at this ski-in/ski-out resort. These new accommodations will be included in the Westin Flex, Hyatt Residence Club portfolio program and Sheraton Flex' points-based products in 2018. crlf     The development team has also been busy with the early phases of the conversion of our Westin Cancun Resort, the expansion of our Hyatt Residence Club property in Bonita Springs, as well as VO conversions and hotel room upgrades at our Sheraton Kauai mixed use campus. crlf     The units added across our portfolio not only enhance and diversify the available inventory in the respective clubs, but they also provide further VO accommodations to house incremental on-campus tours. crlf     With respect to our points-based products, in 2017, we launched two new multi-site programs, Westin Aventuras and Hyatt Residence Club portfolio program, broadening our product offering. These tailored products provide customers increased flexibility while optimizing our inventory yield. Westin Aventuras currently includes our Westin Los Cabos and Westin Lagunamar resorts. Moving forward, our plan is to include available inventory from our other Westin Cancun property. crlf     The Hyatt portfolio program which encompasses nine HVO resorts is currently sold out of our Florida, San Antonio and Sedona galleries. crlf     As part of our overall strategy to grow VO sales, in 2017, we boosted our sales and marketing infrastructure through the expansion of our sales gallery footprint. In April, we inaugurated the Westin Nanea and Westin Los Cabos distribution points concurrently with the opening of the resorts. In addition, we reopened our Hyatt Bonita Springs sales gallery and relocated and expanded our Key West gallery to support the launch of the Hyatt program. crlf     Including the temporarily closed Westin St. John Sales Center, we now have a total of 26 sales galleries. crlf     With respect to Exchange, in 2017, Interval International continued to strengthen its portfolio and expand its vacation experience offerings. In total, we added 63 resorts in 23 countries to the Interval network. We signed an exclusive club affiliation agreement with a subsidiary of Enjoy S.A., a highly regarded entertainment company with impressive brand recognition in Latin America. Enjoy Vacation Club currently has 10 resorts throughout Chile and Argentina, and our agreement includes any future properties that become part of their club. crlf     In Asia Pacific, Interval renewed its master affiliation agreement with Accor Vacation Club, one of the fastest growing hotel management groups in that region. The agreement encompasses their 23 existing club properties as well as future resorts to become part of their network. crlf     We also expanded our platform by adding properties in Mexico, Brazil, Dominican Republic, Aruba, Thailand, China, Australia and many other attractive destinations around the world. As part of our continued efforts to increase our share of wallet from existing members, Interval International launched with Priceline Partner Network an exciting hotel discount benefit especially tailored for our members. We also broadened our suite of experiential products by introducing Hotel Exchange, which allows Interval International's gold and platinum members to trade their weeks or points for stays at thousands of hotels and resorts around the world. crlf     Wrapping up a busy year, we were pleased with the terms of our $325 million asset-backed securitization. With an overall coupon of 2.43%, our issuance achieved the tightest blended average spread and cost of funds post-financial crisis for the timeshare ABS market. crlf     Now, I'll turn it over to Bill to take us through the financials and guidance, and then I'll return for closing comments. Bill? crlf      crlf      crlf      crlf      crlf     Thank you, Craig. Good afternoon, everyone. As Craig mentioned in his opening comments, the results for 2017 were negatively impacted by various storms. In addition to hurricanes Irma or Maria, Tropical Storm Lidia caused damage to our Westin Los Cabos Resort, and Hurricane Harvey negatively impacted operations at Hyatt Residence Club in San Antonio. At yearend, all of our own properties and sale centers, with the exception of Puerto Rico and St. John, we're open and ratcheting toward pre-hurricane levels. crlf     The most significant impact from the storms was lots of potential revenue, resulting from reduced work flow at the affected sales galleries. While our shared in Orlando and Hyatt Bonita Springs sales centers were only disrupted for a brief period, our Hyatt gallery in Key West was closed through late October. The Westin St. John gallery, however, is the one that mostly impacted our results and will continue to do so throughout 2018. As we previously indicated, that sales center was forecast to contribute almost approximately $30 million of contract sales in 2017. This highly-sought after resort, which was an active sales consists of 252 units, the last 26 of which were completed in Q3, it was one of our best-performing distribution centers given the combination of its unique location and amenities, driving high demand from home resort owners. crlf     Resort operations were also impacted due to a reduction in the number of available rooms. In the Exchange and Rental segment, Interval International and, to a lesser extent, our proprietary clubs, were negatively affected by lower transaction volume resulting from the reduction in available inventory. crlf     As a result of the property damage caused by the hurricanes, we also recorded inventory impairment charges and property and equipment write-offs relating to Westin St. John which were largely offset by a receivable for expected insurance proceeds. crlf     These amounts are included in G&A but are excluded from adjusted EBITDA. We anticipate a significant portion of the adverse financial impact from the storms will be mitigated through a business interruption insurance and we are currently working to quantify the claim. crlf     With respect to property insurance, we've begun to receive payments and will continue to use the funds for the reconstruction efforts across the affected resorts. crlf     Our 2018 free cash flow forecast assumes any insurance proceeds received for hurricane property damage will be used to rebuild the impacted operations. While we expect to utilize the majority of the proceeds this year, there may be quarterly differences between inflows and outflows. crlf     Before I discuss the results, I want to point out slight adjustments made to our operating metrics. As part of the continued integration of our VO businesses, in the fourth quarter, we harmonized and clarified the calculation of consolidated timeshare contract sales and the VPG definition, both of which are now more in line with our peers. crlf     Now to the results, as a reminder, the full-year numbers are not comparable given the Vistana acquisition closed in May of 2016. In addition, 2016 was positively impacted by a percentage of completion accounting, or POC, primarily upon the receipt of the certificates of occupancy for certain units at our Westin Nanea and St. John Resorts in the fourth quarter. crlf     as well as by a gain on purchase recorded in connection with the acquisition. The non-cash gain was not subject to tax and caused our effective tax rate to decrease to 18%. Results for 2106 were also impacted by purchase accounting related to the acquisition. Lastly, 2017 benefited from acquiring a provisional tax benefit resulting from the recent tax reform, partially offset by the negative impact from the substantial liquidation of our Venezuelan subsidiary. Because of these factors plus the impact from the hurricanes, the reported year-over-year results were not comparable. crlf     Net income attributable to common stockholders was $168 million. For 2017, our effective tax rate was 13%, due primarily to the provisional tax benefit of $51 million recorded in Q4, reflecting the estimated impact of tax reform. This amount represents a non-cash benefit of $63 million associated with the re-measurement of net deferred tax liabilities resulting from the reduction in the U.S. federal corporate tax rate from 35% to 21%, partly offset by $12 million associated with the transition tax. The mandatory one-time tax on the accumulated earnings of our foreign subsidiaries is payable over eight years. These amounts will continue to be evaluated throughout 2018 and are therefore subject to change. crlf     Adjusted net income which excludes the net provisional benefit of tax reform and the negative impact related to their liquidation was $139 million and excluding the estimated impact of the hurricanes, we have been $146 million. crlf     Adjusted diluted EPS was $1.10 and adjusted for the hurricanes would have been $1.16. crlf     Consolidated revenue for the year increased $430 million to $1.8 billion, primarily related to the inclusion of a full year of Vistana and higher VO sales. Excluding the $39 million positive POC impact in 2016, the estimated $21 million negative impact in 2017 related to the hurricanes and a $24 million negative purchase accounting impact recorded in 2016, year-over-year revenue increase would have been $466 million. crlf     Adjusted EBITDA increased $44 million to $346 million also primarily due to the inclusion of Vistana. Excluding the $26 million positive POC impact in 2016 and the estimated $9 million negative impact in 2017 related to the hurricanes, the year-over-year increase would have been nearly $80 million. crlf     Turning now to the quarter, net income attributable to common stockholders in the fourth quarter was $67 million. Excluding tax reform, our effective tax rate was approximately 55% for the period, reflecting several discrete tax items recorded in the quarter plus the Mexican inflation adjustment. Adjusted net income was $30 million and excluding the estimated impact of the hurricanes, it would have been $35 million. crlf     Adjusted diluted EPS was $0.24 and adjusted for the hurricanes would have been $0.28. Excluding the tax items which I just mentioned, adjusted net income and adjusted diluted EPS would have been higher by $5 million and $0.04, respectively. crlf     Consolidated revenue was $438 million compared to $455 million in the previous year, primarily reflecting the tough comparison to last year which included a $46-million benefit associated with POC, as well as the estimated $16 million negative impact in the quarter related to the hurricanes. Excluding these items, plus the $9 million negative impact of purchase accounting recorded in 2016, consolidated revenue in the quarter would have been up by 9%, primarily driven by a 20% increase in consolidated timeshare contract sales. crlf     Adjusted EBITDA was $85 million compared to $105 million in the prior year, principally reflecting the $24-million POC benefit recorded in 2016, as well as the estimated $6 million negative impact associated with the hurricanes. Excluding these items, adjusted EBITDA in the quarter would have been up by 12%. crlf     Free cash flow was $128 million, at the upper end of our post-hurricane guidance. Inventory spending CapEx totaled $350 million, largely associated with the front-loaded build-out of our Westin Nanea and Los Cabos Resorts, the Sheraton Steamboat conversion and expansions of the Westin Desert Willow. crlf     At year-end, cash and cash equivalents totaled $122 million. Our total gross debt, excluding securitizations, was $570 million and that leverage was 1.3 times. In 2017, we repurchased 1.1 million shares for $28 million at an average share price of $25, and we paid $74 million in dividends, returning a total of $102 million to shareholders. Last week, our board approved a 17% increase to our quarterly dividend in 2018, which equates to nearly $87 million in annual returns to shareholders via dividends. crlf     I'm now walking you through the guidance for 2018 which, as expected, is negatively impacted by the damage caused by the hurricanes. By far, the most significant impact to our results is associated with the Westin St. John property which, as I mentioned earlier, is not expected to reopen until early next year. The negative impact is reflected in VO sales, as well as in rentals and management fees. The lower VO sales also resulted in reduced receivables and, consequently, lower interest income. crlf     In addition, out of the approximately 50 Interval International affiliated resorts closed at year end, more than half are located in the heavily damaged islands of St. Martin and Puerto Rico which are among our highest revenue-generating destinations in the Caribbean. At this time, we expect a negative impact on revenue, adjusted EBITDA and free cash flow to the approximately $67 million, $23 million, and $21 million, respectively. We expect the consolidated revenue will be between $1.87 billion and $2 billion. We expect adjusted EBITDA should fall in the range of $350 million to $370 million. Excluding the estimated hurricane impact, the midpoint translates in the consolidated revenue and adjusted EBITDA growth of 10% and 8%, respectively. crlf     Our outlook was prepared based on the new revenue recognition guidelines which for us primarily resulted in classification changes between revenue and costs. Certain items previously presented as net expenses will be reflected as revenue and vice versa. The net impact to our results, however, is immaterial. crlf     The guidance reflects the following expectations for the business. We are forecasting consolidated timeshare sales growth of 9% to 16%. Excluding the estimated impact from the hurricanes, it would have been 12% to 19%. The increase primarily reflects poor flow growth resulting from the units added during 2017 and those planned for 2018, as well as increasing contribution from the sales centers opened since Q4 of 2015. We expect aggregate adjusted EBITDA for the independent exchange and third party deal management businesses to remain relatively consistent with last year. crlf     We are forecasting some softness in our Aqua-Aston rental management business, given historically low cap rates have resulted in the turnover of hotels in Hawaii, many to buyers of capital management companies. The mitigating initiatives we are implementing, however, will result in minimal bottom line impact for the full year. crlf     We believe free cash flow will be in the range of $240 million and $270 million, assuming a $300 million securitization. The range reflects an estimated $21 million negative impact from the hurricanes, mostly offset by a similar decrease in our cash taxes resulting from tax reform. crlf     Our expectations for 2018 reflect a reduction of approximately $200 million inventory spend in CapEx compared to last year in our current plan just to a more capital-efficient sales force, just-in-time inventory model. crlf     Since our operations are predominantly in the U.S., we are a net beneficiary of tax reform and we currently expect our 2018 effective tax rate to decrease to approximately 28% and our cash tax rate to be about 30%. crlf     As you think about the quarterly progression of our results next year, please bear in mind the impact of the hurricanes particularly in the first quarter which is historically our strongest. As we lack the timing of the 2017 hurricanes, however, we would expect easier comps for VO sales. crlf     With that, I'll hand the call back to Craig for some closing remarks. crlf      crlf      crlf      crlf      crlf     Thanks, Bill. I am extremely proud of what our team accomplished in 2017. Although the unforeseen events associated with the hurricanes negatively impact our results in the short term, we are well-positioned to continue to successfully execute on our strategic plan in 2018 and beyond. crlf     The key pillar of the plan is growing VO sales as well as related club, management, and consumer financing revenue. We have $6.5 billion of embedded inventory sales value, reflecting inventory on hand plus resort expansions on our entitled land and conversions of our owned hotels. These projects are expected to yield an additional 1,900 units, increasing our portfolio by nearly 30%. crlf     The self-sourced nature of our plan gives us more control of the development and sales process, enabling us to match inventory levels to expected sales velocity and allows us to retain the attractive development margin and all ancillary revenue streams. crlf     To complement this plan, we are actively working with third parties to expand our presence in new destinations specifically in centrally located urban properties. The growth in our portfolio is fundamental to executing on our strategy as approximately 65% of our tour flow is generated through higher-margin on-campus channels. crlf     On-campus refers to guests staying in the nearly 7,000 units across our branded resorts, as well as at 11 Hyatt, Sheraton, and Westin Hotels which are closely integrated with our sales operations and with which we have established marketing agreements. crlf     Our marketing programs are focused on branded lifestyle vacations and experiences. The more memorable experiences we are able to deliver, increasing the affinity to the brands we have exclusive rights to, the more we can increase consumer interest to our flow and ultimately sales. crlf     On the topic of marketing, I would like to take a moment to comment on the Marriott agreement amendments announced yesterday. As we have maintained all along, our rights to the SPG program under our Starwood agreements were protected. Actually, our rights will be significantly expanded. crlf     These amendments will permit us, upon the combination of the Marriott rewards, Ritz-Carlton, and SPG programs, to market to over 110 million loyalty team members for the brands we license from Starwood. Millions of these members represent an attractive demographic base that allows us to expand our reach into the middle market where the Marriott system has significant scale. crlf     As a reminder, we use the loyalty program databases in conjunction with the proprietary quantitative models to create targeted brand-specific travel offers under our preview package program. This channel, which constitutes approximately 20% of our tour flow, today includes offers to members of SPG, in the future, the entire 110 million Marriott Loyalty members, as well as World of Hyatt and customers of travel, finance and other consumer focused companies. crlf     New buyers are also sourced through off-premise marketing which accounts for the remaining 15% of our tour flow generation. This generally includes in-market hotels close to our resorts. For example, in Hawaii, we are leveraging selected Aqua-Aston managed properties and we have agreements with third-party branded hotels  (30:14). As you can appreciate, our long-term growth plan is founded on highly-predictable tour generation channels which remain secured. Our plan does not contemplate marketing at hotels outside our destination markets nor is it dependent on call transfer programs. crlf     Turning back to our objectives for the year, in 2018, we will continue to work closely with our partners at Marriott and Hyatt, leveraging our shared interest in the growth of the Westin, Sheraton and Hyatt brands. With respect to Marriott, I'm pleased to report that we received approval for and in January launched our latest points-based product Westin Flex. This multi-site inventory product includes six resorts and highly demanded vacation destinations. crlf     Our respective teams continue to work on other enhancements such as the introduction of the JPMorgan-Chase co-branded credit card and furthering our use of the American Express co-branded card. We believe these efforts will provide greater economic benefit to us and will enhance our product offering to existing and future customers. crlf     In addition, we are very excited to be able to expand the breadth of future vacation options available to our Vistana owners to include Marriott's more than 6,000 properties worldwide through our participation in the combined loyalty program mentioned earlier. With respect to Hyatt, we are exploring potential new locations for this exceptional brand and working together on additional products. crlf     Regarding our Exchange and Rental segment, in 2018, Interval International is focused on expanding and fortifying the network by adding resorts and high growth international markets such as Latin America and Asia Pacific. In the face of the headwinds in the domestic market, however, we are actively looking at opportunities which enable us to extend our service platform outside the vacation ownership space creating a growth engine to complement our existing membership model. crlf     Throughout 2018, we will be strengthening Aqua-Aston's business development efforts and repositioning its growth strategy outside Hawaii. In terms of capital allocation, our objective continues to be to maximize long-term value creation. crlf     As we discussed today, we have attractive opportunities to continue to invest in the growth of the company leveraging our embedded inventory. With respect to returning capital to shareholders, management and the board regularly review decisions and policies based on our strategic plan. In recent years, we have been mindful of the limitations in the tax matters agreement related to the  (33:12) as most of you know, these restrictions expire in May on the second anniversary of the Vistana acquisition. crlf     Our dividend policy is to keep the dividend payout roughly proportional to adjusted EBITDA and free cash flow growth over a multi-year period. crlf     With respect to share repurchases, our strategy is to repurchase stock to offset dilution of stock-based compensation plans and to execute buybacks on an opportunistic basis. Over the past two years, we returned approximately 85% of our free cash flow to shareholders through dividends and buybacks. crlf     As I reflect on the first calendar year following the transformative Vistana acquisition, I am very pleased to report that through the hard work of our more than 10,000 associates around the world, we've been able to successfully execute on our growth strategy and consistently deliver strong results even in the face of devastating natural disasters. crlf     Today, ILG is a clear leader in the Vacation Ownership space, well-positioned to continue to profitably grow through the combination of our embedded inventory pipeline, exclusive long-term rights to three leading upper-upscale hospitality brands, balanced mix of sales to owners versus new buyers, and highly predictable tour flow generation channels. crlf     Given this unique positioning, combined with the significant contribution from recurring and fee-based revenues, a highly experienced team, a flexible capital structure, and robust industry and economic fundamentals, we are excited about the growth opportunities available to us and are executing against our long-term targets as we continue to focus on increasing shareholder value. crlf     Now, before we begin the Q&A portion of today's call, I want to comment on work the board is leading with regard to ILG's strategic direction. While we have complete confidence in our current business plan, our board is committed to exploring all paths to maximizing shareholder value. Since the completion of the Vistana transaction, we have actively engaged in the analysis and exploration of a variety of potential strategic opportunities, all under the direction of our independent board. crlf     To enhance that effort, in December, our board of directors established a strategic review committee comprised of independent directors with the mandate to oversee the evaluation of potential strategic opportunities and the engagement with relevant parties. In this context, the company and its advisers are currently in discussions with multiple partners. There could be no assurances, however, that any of these endeavors will result in a transaction. crlf     On a personal note and I know I speak for the entire management team when I say that we are fully committed to finding the path that maximizes long-term shareholder value, and I am confident that the full board, the strategic review committee, management and our advisors have the alignment, focus and team to do just that. crlf     Also, as I'm sure you'll understand, we are not able to comment further on this process, and we would ask that questions stay focused on our results and strategic plan. That's the end of my prepared remarks. Operator, please go open the call for questions. crlf      crlf      crlf     \\n\"],\n",
       "      dtype=object)"
      ]
     },
     "execution_count": 5,
     "metadata": {},
     "output_type": "execute_result"
    }
   ],
   "source": [
    "pd.set_option('display.max_colwidth', -1)\n",
    "df_tes = pd.read_csv('Transcript_Data/lm/lm_test.txt', header=None)\n",
    "df_tes.iloc[0].values"
   ]
  },
  {
   "cell_type": "code",
   "execution_count": 6,
   "metadata": {},
   "outputs": [],
   "source": [
    "# fix numbers in the text\n",
    "\n",
    "def fixup(x):\n",
    "    x = re.sub(r'(,[\\d][\\d]{2})', ' 000 ', x) # $605,100,100 -> $605 000 000\n",
    "    \n",
    "    x = re.sub('([\\D][0]\\.[1-9])[\\d]+', r'\\1', x)  # 0.59 -> 0.5\n",
    "    x = re.sub(r'([\\D][1-9])\\.[\\d]+', r'\\g<1>', x)  # 3.6 -> 3\n",
    "    x = re.sub(r'([\\D^\\.][1][0-9])\\.[\\d]+', r'\\g<1>', x)  # 19.6 -> 19\n",
    "    x = re.sub(r'([\\D^\\.][2-9])[0-9](\\.[\\d]+)?([\\D])', r'\\g<1>0\\g<3>', x)  # 26.25 -> 26\n",
    "    x = re.sub(r'([\\D^\\.][\\d])[\\d]{2}(\\.[\\d]+)?([\\D])', r'\\g<1>00\\g<3>', x)  # $158.4 million -> $100 million\n",
    "    \n",
    "    x = re.sub(r'\\$', r' $ ', x)\n",
    "    x = re.sub(r'\\%', r' % ', x)\n",
    "    \n",
    "    x = x.replace('pppp', 'xppx')\n",
    "    \n",
    "    return x"
   ]
  },
  {
   "cell_type": "code",
   "execution_count": 7,
   "metadata": {},
   "outputs": [],
   "source": [
    "# tokenize\n",
    "\n",
    "def get_texts(df):\n",
    "    texts = df[0].astype(str)\n",
    "    texts = list(texts.apply(fixup).values)\n",
    "    tok = Tokenizer().proc_all_mp(partition_by_cores(texts))\n",
    "    return tok"
   ]
  },
  {
   "cell_type": "code",
   "execution_count": 8,
   "metadata": {},
   "outputs": [],
   "source": [
    "# tokenized text to list\n",
    "\n",
    "def get_all(df):\n",
    "    tok = []\n",
    "    for i, r in enumerate(df):\n",
    "        print(i)\n",
    "        tok_ = get_texts(r)\n",
    "        tok += tok_;\n",
    "    return tok"
   ]
  },
  {
   "cell_type": "code",
   "execution_count": 9,
   "metadata": {},
   "outputs": [],
   "source": [
    "df_trn = pd.read_csv('Transcript_Data/lm/lm_train.txt', header=None, chunksize=chunksize)\n",
    "df_tes = pd.read_csv('Transcript_Data/lm/lm_test.txt', header=None, chunksize=chunksize)"
   ]
  },
  {
   "cell_type": "code",
   "execution_count": 10,
   "metadata": {},
   "outputs": [
    {
     "name": "stdout",
     "output_type": "stream",
     "text": [
      "0\n",
      "1\n",
      "2\n",
      "3\n",
      "0\n"
     ]
    }
   ],
   "source": [
    "# takes a long time to generate these tokens and sometimes is incomplete!\n",
    "\n",
    "tok_trn = get_all(df_trn)\n",
    "tok_tes = get_all(df_tes)"
   ]
  },
  {
   "cell_type": "code",
   "execution_count": 15,
   "metadata": {},
   "outputs": [],
   "source": [
    "# tok_tes[0][:100]"
   ]
  },
  {
   "cell_type": "code",
   "execution_count": 11,
   "metadata": {},
   "outputs": [
    {
     "data": {
      "text/plain": [
       "[('the', 12776710),\n",
       " ('.', 11688049),\n",
       " (',', 9993873),\n",
       " ('to', 8042040),\n",
       " ('and', 7721203),\n",
       " ('of', 7510013),\n",
       " ('in', 6736467),\n",
       " ('our', 5771969),\n",
       " ('we', 5557395),\n",
       " ('crlf', 4622840),\n",
       " ('a', 3657899),\n",
       " ('for', 3036713),\n",
       " ('quarter', 2839186),\n",
       " ('$', 2627922),\n",
       " ('-', 2595141),\n",
       " ('%', 2406647),\n",
       " ('that', 2360086),\n",
       " ('million', 2324364),\n",
       " ('year', 2291429),\n",
       " ('as', 2168148)]"
      ]
     },
     "execution_count": 11,
     "metadata": {},
     "output_type": "execute_result"
    }
   ],
   "source": [
    "freq = Counter(p for o in tok_trn for p in o)\n",
    "freq.most_common(20)\n",
    "# freq.most_common()[-50:]"
   ]
  },
  {
   "cell_type": "code",
   "execution_count": 12,
   "metadata": {},
   "outputs": [],
   "source": [
    "# going higher (overfitting) or lower (to 40K is not bad)\n",
    "\n",
    "max_vocab = 60000\n",
    "min_freq = 2"
   ]
  },
  {
   "cell_type": "code",
   "execution_count": 13,
   "metadata": {},
   "outputs": [],
   "source": [
    "itos = [o for o,c in freq.most_common(max_vocab) if c>min_freq]\n",
    "itos.insert(0, '_pad_')\n",
    "itos.insert(0, '_unk_')"
   ]
  },
  {
   "cell_type": "code",
   "execution_count": 14,
   "metadata": {},
   "outputs": [
    {
     "data": {
      "text/plain": [
       "60002"
      ]
     },
     "execution_count": 14,
     "metadata": {},
     "output_type": "execute_result"
    }
   ],
   "source": [
    "# default dict assigns 0 as default which is for _unk_\n",
    "\n",
    "stoi = collections.defaultdict(lambda:0, {v:k for k,v in enumerate(itos)})\n",
    "len(itos)"
   ]
  },
  {
   "cell_type": "code",
   "execution_count": 19,
   "metadata": {},
   "outputs": [
    {
     "data": {
      "text/plain": [
       "('_unk_', '_pad_', 'we', 'cost')"
      ]
     },
     "execution_count": 19,
     "metadata": {},
     "output_type": "execute_result"
    }
   ],
   "source": [
    "itos[0], itos[1], itos[10], itos[100]"
   ]
  },
  {
   "cell_type": "code",
   "execution_count": 20,
   "metadata": {},
   "outputs": [],
   "source": [
    "# converting the tokenized text to index arrays - unknown?\n",
    "\n",
    "trn_lm = np.array([[stoi[o] for o in p] for p in tok_trn])\n",
    "tes_lm = np.array([[stoi[o] for o in p] for p in tok_tes])"
   ]
  },
  {
   "cell_type": "code",
   "execution_count": null,
   "metadata": {},
   "outputs": [],
   "source": [
    "np.save('results_rakesh/tok_inds_npy/lm/ids_train.npy', trn_lm)\n",
    "np.save('results_rakesh/tok_inds_npy/lm/ids_test.npy', tes_lm)\n",
    "pickle.dump(itos, open('results_rakesh/tok_inds_npy/lm/itos.pkl', 'wb'))"
   ]
  },
  {
   "cell_type": "code",
   "execution_count": 18,
   "metadata": {},
   "outputs": [
    {
     "data": {
      "text/plain": [
       "2"
      ]
     },
     "execution_count": 18,
     "metadata": {},
     "output_type": "execute_result"
    }
   ],
   "source": [
    "1+1"
   ]
  },
  {
   "cell_type": "markdown",
   "metadata": {},
   "source": [
    "# load pre-trained wiki language model"
   ]
  },
  {
   "cell_type": "code",
   "execution_count": 21,
   "metadata": {},
   "outputs": [],
   "source": [
    "trn_lm = np.load('results_rakesh/tok_inds_npy/lm/ids_train.npy')\n",
    "tes_lm = np.load('results_rakesh/tok_inds_npy/lm/ids_test.npy')\n",
    "itos = pickle.load(open('results_rakesh/tok_inds_npy/lm/itos.pkl', 'rb'))"
   ]
  },
  {
   "cell_type": "code",
   "execution_count": 22,
   "metadata": {},
   "outputs": [
    {
     "data": {
      "text/plain": [
       "(60002, 80399)"
      ]
     },
     "execution_count": 22,
     "metadata": {},
     "output_type": "execute_result"
    }
   ],
   "source": [
    "vs=len(itos)\n",
    "vs,len(trn_lm)"
   ]
  },
  {
   "cell_type": "code",
   "execution_count": 23,
   "metadata": {},
   "outputs": [],
   "source": [
    "em_sz,nh,nl = 400,1150,3"
   ]
  },
  {
   "cell_type": "code",
   "execution_count": 24,
   "metadata": {},
   "outputs": [],
   "source": [
    "# loading the model built by fast ai on wikipedia dataset\n",
    "# fwd_wt103 is what they used - can we use bwd?\n",
    "# difference between fwd_wt103 and encoder is the first part vs. fwd_wt103 includes decoder\n",
    "\n",
    "PRE_PATH = Path('results_rakesh/fastai_models/wt103')\n",
    "PRE_LM_PATH = PRE_PATH/'fwd_wt103.h5'"
   ]
  },
  {
   "cell_type": "code",
   "execution_count": 25,
   "metadata": {},
   "outputs": [],
   "source": [
    "wgts = torch.load(PRE_LM_PATH, map_location=lambda storage, loc: storage)"
   ]
  },
  {
   "cell_type": "code",
   "execution_count": 26,
   "metadata": {},
   "outputs": [],
   "source": [
    "enc_wgts = to_np(wgts['0.encoder.weight'])\n",
    "row_m = enc_wgts.mean(0)"
   ]
  },
  {
   "cell_type": "code",
   "execution_count": 27,
   "metadata": {},
   "outputs": [],
   "source": [
    "# this loads the indexing as used by the fastai model\n",
    "\n",
    "itos2 = pickle.load((PRE_PATH/'itos_wt103.pkl').open('rb'))\n",
    "stoi2 = collections.defaultdict(lambda:-1, {v:k for k,v in enumerate(itos2)})"
   ]
  },
  {
   "cell_type": "code",
   "execution_count": 28,
   "metadata": {},
   "outputs": [
    {
     "data": {
      "text/plain": [
       "(['_unk_', '_pad_', 'the', ',', '.', 'of', 'and', 'in', 'to', 'a'], 238462)"
      ]
     },
     "execution_count": 28,
     "metadata": {},
     "output_type": "execute_result"
    }
   ],
   "source": [
    "itos2[:10], len(itos2)"
   ]
  },
  {
   "cell_type": "code",
   "execution_count": 29,
   "metadata": {},
   "outputs": [],
   "source": [
    "# converting to our word index and copying the embeddings for encoder weights\n",
    "\n",
    "new_w = np.zeros((vs, em_sz), dtype=np.float32)\n",
    "for i,w in enumerate(itos):\n",
    "    r = stoi2[w]\n",
    "    new_w[i] = enc_wgts[r] if r>=0 else row_m"
   ]
  },
  {
   "cell_type": "code",
   "execution_count": 30,
   "metadata": {},
   "outputs": [],
   "source": [
    "# what is T? and all weights are initialized to wgts??\n",
    "# T is pytorch tensor\n",
    "# wgts is a dict with names of 3 diff tensors\n",
    "# remaining weights dont need to change in the NN\n",
    "\n",
    "wgts['0.encoder.weight'] = T(new_w)\n",
    "wgts['0.encoder_with_dropout.embed.weight'] = T(np.copy(new_w))\n",
    "wgts['1.decoder.weight'] = T(np.copy(new_w))"
   ]
  },
  {
   "cell_type": "markdown",
   "metadata": {},
   "source": [
    "# train new language model"
   ]
  },
  {
   "cell_type": "code",
   "execution_count": 31,
   "metadata": {},
   "outputs": [],
   "source": [
    "wd=1e-7\n",
    "bptt=70\n",
    "bs=52\n",
    "opt_fn = partial(optim.Adam, betas=(0.8, 0.99))"
   ]
  },
  {
   "cell_type": "code",
   "execution_count": 32,
   "metadata": {},
   "outputs": [],
   "source": [
    "# what exactly does this block do / load?\n",
    "# the loader takes care of splitting into batches\n",
    "# md is the model data object\n",
    "\n",
    "trn_dl = LanguageModelLoader(np.concatenate(trn_lm), bs, bptt)\n",
    "tes_dl = LanguageModelLoader(np.concatenate(tes_lm), bs, bptt)\n",
    "md = LanguageModelData(\"results_rakesh/nn_models/\", 1, vs, trn_dl, tes_dl, bs=bs, bptt=bptt)"
   ]
  },
  {
   "cell_type": "code",
   "execution_count": 33,
   "metadata": {},
   "outputs": [],
   "source": [
    "# dropout diff values for LM and classifier\n",
    "\n",
    "drops = np.array([0.25, 0.1, 0.2, 0.02, 0.15])*0.7"
   ]
  },
  {
   "cell_type": "code",
   "execution_count": 34,
   "metadata": {},
   "outputs": [],
   "source": [
    "# this initializes the language model or the learning rate?\n",
    "\n",
    "learner= md.get_model(opt_fn, em_sz, nh, nl, \n",
    "    dropouti=drops[0], dropout=drops[1], wdrop=drops[2], dropoute=drops[3], dropouth=drops[4])\n",
    "\n",
    "learner.metrics = [accuracy]   # is this the loss? not sure maybe print out\n",
    "learner.freeze_to(-1)"
   ]
  },
  {
   "cell_type": "code",
   "execution_count": 35,
   "metadata": {},
   "outputs": [],
   "source": [
    "learner.model.load_state_dict(wgts)"
   ]
  },
  {
   "cell_type": "code",
   "execution_count": 36,
   "metadata": {},
   "outputs": [],
   "source": [
    "lr=1e-3\n",
    "lrs = lr"
   ]
  },
  {
   "cell_type": "code",
   "execution_count": null,
   "metadata": {},
   "outputs": [],
   "source": [
    "learner"
   ]
  },
  {
   "cell_type": "code",
   "execution_count": 38,
   "metadata": {},
   "outputs": [
    {
     "data": {
      "application/vnd.jupyter.widget-view+json": {
       "model_id": "87adf77518f04b92925734f91a4f737d",
       "version_major": 2,
       "version_minor": 0
      },
      "text/plain": [
       "HBox(children=(IntProgress(value=0, description='Epoch', max=1), HTML(value='')))"
      ]
     },
     "metadata": {},
     "output_type": "display_data"
    },
    {
     "name": "stdout",
     "output_type": "stream",
     "text": [
      "  6%|▌         | 4850/79611 [09:51<2:32:05,  8.19it/s, loss=4.52]"
     ]
    },
    {
     "name": "stderr",
     "output_type": "stream",
     "text": [
      "IOPub message rate exceeded.\n",
      "The notebook server will temporarily stop sending output\n",
      "to the client in order to avoid crashing it.\n",
      "To change this limit, set the config variable\n",
      "`--NotebookApp.iopub_msg_rate_limit`.\n",
      "\n",
      "Current values:\n",
      "NotebookApp.iopub_msg_rate_limit=1000.0 (msgs/sec)\n",
      "NotebookApp.rate_limit_window=3.0 (secs)\n",
      "\n"
     ]
    },
    {
     "name": "stdout",
     "output_type": "stream",
     "text": [
      " 16%|█▌        | 12367/79611 [25:13<2:17:10,  8.17it/s, loss=4.17]"
     ]
    },
    {
     "name": "stderr",
     "output_type": "stream",
     "text": [
      "IOPub message rate exceeded.\n",
      "The notebook server will temporarily stop sending output\n",
      "to the client in order to avoid crashing it.\n",
      "To change this limit, set the config variable\n",
      "`--NotebookApp.iopub_msg_rate_limit`.\n",
      "\n",
      "Current values:\n",
      "NotebookApp.iopub_msg_rate_limit=1000.0 (msgs/sec)\n",
      "NotebookApp.rate_limit_window=3.0 (secs)\n",
      "\n"
     ]
    },
    {
     "name": "stdout",
     "output_type": "stream",
     "text": [
      " 24%|██▎       | 18811/79611 [38:23<2:04:06,  8.16it/s, loss=4.01]"
     ]
    },
    {
     "name": "stderr",
     "output_type": "stream",
     "text": [
      "IOPub message rate exceeded.\n",
      "The notebook server will temporarily stop sending output\n",
      "to the client in order to avoid crashing it.\n",
      "To change this limit, set the config variable\n",
      "`--NotebookApp.iopub_msg_rate_limit`.\n",
      "\n",
      "Current values:\n",
      "NotebookApp.iopub_msg_rate_limit=1000.0 (msgs/sec)\n",
      "NotebookApp.rate_limit_window=3.0 (secs)\n",
      "\n"
     ]
    },
    {
     "name": "stdout",
     "output_type": "stream",
     "text": [
      " 58%|█████▊    | 46353/79611 [1:34:17<1:07:39,  8.19it/s, loss=3.8] "
     ]
    },
    {
     "name": "stderr",
     "output_type": "stream",
     "text": [
      "IOPub message rate exceeded.\n",
      "The notebook server will temporarily stop sending output\n",
      "to the client in order to avoid crashing it.\n",
      "To change this limit, set the config variable\n",
      "`--NotebookApp.iopub_msg_rate_limit`.\n",
      "\n",
      "Current values:\n",
      "NotebookApp.iopub_msg_rate_limit=1000.0 (msgs/sec)\n",
      "NotebookApp.rate_limit_window=3.0 (secs)\n",
      "\n"
     ]
    },
    {
     "name": "stdout",
     "output_type": "stream",
     "text": [
      " 67%|██████▋   | 53674/79611 [1:49:08<52:44,  8.20it/s, loss=3.79]"
     ]
    },
    {
     "name": "stderr",
     "output_type": "stream",
     "text": [
      "IOPub message rate exceeded.\n",
      "The notebook server will temporarily stop sending output\n",
      "to the client in order to avoid crashing it.\n",
      "To change this limit, set the config variable\n",
      "`--NotebookApp.iopub_msg_rate_limit`.\n",
      "\n",
      "Current values:\n",
      "NotebookApp.iopub_msg_rate_limit=1000.0 (msgs/sec)\n",
      "NotebookApp.rate_limit_window=3.0 (secs)\n",
      "\n"
     ]
    },
    {
     "name": "stdout",
     "output_type": "stream",
     "text": [
      " 90%|████████▉ | 71464/79611 [2:25:15<16:33,  8.20it/s, loss=3.8] "
     ]
    },
    {
     "name": "stderr",
     "output_type": "stream",
     "text": [
      "IOPub message rate exceeded.\n",
      "The notebook server will temporarily stop sending output\n",
      "to the client in order to avoid crashing it.\n",
      "To change this limit, set the config variable\n",
      "`--NotebookApp.iopub_msg_rate_limit`.\n",
      "\n",
      "Current values:\n",
      "NotebookApp.iopub_msg_rate_limit=1000.0 (msgs/sec)\n",
      "NotebookApp.rate_limit_window=3.0 (secs)\n",
      "\n"
     ]
    },
    {
     "name": "stdout",
     "output_type": "stream",
     "text": [
      " 98%|█████████▊| 78386/79611 [2:39:18<02:29,  8.20it/s, loss=3.81]"
     ]
    },
    {
     "name": "stderr",
     "output_type": "stream",
     "text": [
      "IOPub message rate exceeded.\n",
      "The notebook server will temporarily stop sending output\n",
      "to the client in order to avoid crashing it.\n",
      "To change this limit, set the config variable\n",
      "`--NotebookApp.iopub_msg_rate_limit`.\n",
      "\n",
      "Current values:\n",
      "NotebookApp.iopub_msg_rate_limit=1000.0 (msgs/sec)\n",
      "NotebookApp.rate_limit_window=3.0 (secs)\n",
      "\n"
     ]
    }
   ],
   "source": [
    "# Results of Rakesh's language model run\n",
    "\n",
    "learner.fit(lrs/2, 1, wds=wd, use_clr=(32,2), cycle_len=1)"
   ]
  },
  {
   "cell_type": "code",
   "execution_count": 33,
   "metadata": {},
   "outputs": [
    {
     "data": {
      "application/vnd.jupyter.widget-view+json": {
       "model_id": "6ea895c568b44484b2006b59aa797e78",
       "version_major": 2,
       "version_minor": 0
      },
      "text/plain": [
       "HBox(children=(IntProgress(value=0, description='Epoch', max=1), HTML(value='')))"
      ]
     },
     "metadata": {},
     "output_type": "display_data"
    },
    {
     "name": "stdout",
     "output_type": "stream",
     "text": [
      "epoch      trn_loss   val_loss   accuracy                           \n",
      "    0      3.782169   3.576808   0.340486  \n",
      "\n"
     ]
    },
    {
     "data": {
      "text/plain": [
       "[array([3.57681]), 0.3404862690212228]"
      ]
     },
     "execution_count": 33,
     "metadata": {},
     "output_type": "execute_result"
    }
   ],
   "source": [
    "# Results of Yifan's language model run\n",
    "\n",
    "learner.fit(lrs/2, 1, wds=wd, use_clr=(32,2), cycle_len=1)"
   ]
  },
  {
   "cell_type": "code",
   "execution_count": 39,
   "metadata": {},
   "outputs": [],
   "source": [
    "learner.save('lm_last_ft')"
   ]
  },
  {
   "cell_type": "code",
   "execution_count": 40,
   "metadata": {},
   "outputs": [
    {
     "name": "stdout",
     "output_type": "stream",
     "text": [
      "Everything is saved\n"
     ]
    }
   ],
   "source": [
    "print (\"Everything is saved\")"
   ]
  },
  {
   "cell_type": "code",
   "execution_count": null,
   "metadata": {},
   "outputs": [],
   "source": [
    "1+1"
   ]
  },
  {
   "cell_type": "code",
   "execution_count": 43,
   "metadata": {},
   "outputs": [],
   "source": [
    "learner.load('lm_last_ft')"
   ]
  },
  {
   "cell_type": "code",
   "execution_count": 44,
   "metadata": {},
   "outputs": [],
   "source": [
    "learner.unfreeze()"
   ]
  },
  {
   "cell_type": "code",
   "execution_count": 45,
   "metadata": {},
   "outputs": [
    {
     "data": {
      "application/vnd.jupyter.widget-view+json": {
       "model_id": "aa3a28708b684259ade12c0257062c91",
       "version_major": 2,
       "version_minor": 0
      },
      "text/plain": [
       "HBox(children=(IntProgress(value=0, description='Epoch', max=1), HTML(value='')))"
      ]
     },
     "metadata": {},
     "output_type": "display_data"
    },
    {
     "name": "stdout",
     "output_type": "stream",
     "text": [
      "  6%|▌         | 4632/79611 [10:34<2:51:02,  7.31it/s, loss=3.45]"
     ]
    },
    {
     "name": "stderr",
     "output_type": "stream",
     "text": [
      "IOPub message rate exceeded.\n",
      "The notebook server will temporarily stop sending output\n",
      "to the client in order to avoid crashing it.\n",
      "To change this limit, set the config variable\n",
      "`--NotebookApp.iopub_msg_rate_limit`.\n",
      "\n",
      "Current values:\n",
      "NotebookApp.iopub_msg_rate_limit=1000.0 (msgs/sec)\n",
      "NotebookApp.rate_limit_window=3.0 (secs)\n",
      "\n"
     ]
    },
    {
     "name": "stdout",
     "output_type": "stream",
     "text": [
      " 15%|█▌        | 12163/79611 [27:41<2:33:34,  7.32it/s, loss=3.4] "
     ]
    },
    {
     "name": "stderr",
     "output_type": "stream",
     "text": [
      "IOPub message rate exceeded.\n",
      "The notebook server will temporarily stop sending output\n",
      "to the client in order to avoid crashing it.\n",
      "To change this limit, set the config variable\n",
      "`--NotebookApp.iopub_msg_rate_limit`.\n",
      "\n",
      "Current values:\n",
      "NotebookApp.iopub_msg_rate_limit=1000.0 (msgs/sec)\n",
      "NotebookApp.rate_limit_window=3.0 (secs)\n",
      "\n"
     ]
    },
    {
     "name": "stdout",
     "output_type": "stream",
     "text": [
      " 24%|██▍       | 19461/79611 [44:24<2:17:14,  7.30it/s, loss=3.34]"
     ]
    },
    {
     "name": "stderr",
     "output_type": "stream",
     "text": [
      "IOPub message rate exceeded.\n",
      "The notebook server will temporarily stop sending output\n",
      "to the client in order to avoid crashing it.\n",
      "To change this limit, set the config variable\n",
      "`--NotebookApp.iopub_msg_rate_limit`.\n",
      "\n",
      "Current values:\n",
      "NotebookApp.iopub_msg_rate_limit=1000.0 (msgs/sec)\n",
      "NotebookApp.rate_limit_window=3.0 (secs)\n",
      "\n"
     ]
    },
    {
     "name": "stdout",
     "output_type": "stream",
     "text": [
      " 34%|███▍      | 26953/79611 [1:01:25<1:59:59,  7.31it/s, loss=3.48]"
     ]
    },
    {
     "name": "stderr",
     "output_type": "stream",
     "text": [
      "IOPub message rate exceeded.\n",
      "The notebook server will temporarily stop sending output\n",
      "to the client in order to avoid crashing it.\n",
      "To change this limit, set the config variable\n",
      "`--NotebookApp.iopub_msg_rate_limit`.\n",
      "\n",
      "Current values:\n",
      "NotebookApp.iopub_msg_rate_limit=1000.0 (msgs/sec)\n",
      "NotebookApp.rate_limit_window=3.0 (secs)\n",
      "\n"
     ]
    },
    {
     "name": "stdout",
     "output_type": "stream",
     "text": [
      " 43%|████▎     | 34399/79611 [1:18:26<1:43:06,  7.31it/s, loss=3.46]"
     ]
    },
    {
     "name": "stderr",
     "output_type": "stream",
     "text": [
      "IOPub message rate exceeded.\n",
      "The notebook server will temporarily stop sending output\n",
      "to the client in order to avoid crashing it.\n",
      "To change this limit, set the config variable\n",
      "`--NotebookApp.iopub_msg_rate_limit`.\n",
      "\n",
      "Current values:\n",
      "NotebookApp.iopub_msg_rate_limit=1000.0 (msgs/sec)\n",
      "NotebookApp.rate_limit_window=3.0 (secs)\n",
      "\n"
     ]
    },
    {
     "name": "stdout",
     "output_type": "stream",
     "text": [
      " 69%|██████▉   | 54884/79611 [2:04:52<56:15,  7.32it/s, loss=3.48]  "
     ]
    },
    {
     "name": "stderr",
     "output_type": "stream",
     "text": [
      "IOPub message rate exceeded.\n",
      "The notebook server will temporarily stop sending output\n",
      "to the client in order to avoid crashing it.\n",
      "To change this limit, set the config variable\n",
      "`--NotebookApp.iopub_msg_rate_limit`.\n",
      "\n",
      "Current values:\n",
      "NotebookApp.iopub_msg_rate_limit=1000.0 (msgs/sec)\n",
      "NotebookApp.rate_limit_window=3.0 (secs)\n",
      "\n"
     ]
    },
    {
     "name": "stdout",
     "output_type": "stream",
     "text": [
      " 78%|███████▊  | 62348/79611 [2:21:46<39:15,  7.33it/s, loss=3.5] "
     ]
    },
    {
     "name": "stderr",
     "output_type": "stream",
     "text": [
      "IOPub message rate exceeded.\n",
      "The notebook server will temporarily stop sending output\n",
      "to the client in order to avoid crashing it.\n",
      "To change this limit, set the config variable\n",
      "`--NotebookApp.iopub_msg_rate_limit`.\n",
      "\n",
      "Current values:\n",
      "NotebookApp.iopub_msg_rate_limit=1000.0 (msgs/sec)\n",
      "NotebookApp.rate_limit_window=3.0 (secs)\n",
      "\n"
     ]
    },
    {
     "name": "stdout",
     "output_type": "stream",
     "text": [
      " 88%|████████▊ | 69828/79611 [2:38:47<22:14,  7.33it/s, loss=3.44]"
     ]
    },
    {
     "name": "stderr",
     "output_type": "stream",
     "text": [
      "IOPub message rate exceeded.\n",
      "The notebook server will temporarily stop sending output\n",
      "to the client in order to avoid crashing it.\n",
      "To change this limit, set the config variable\n",
      "`--NotebookApp.iopub_msg_rate_limit`.\n",
      "\n",
      "Current values:\n",
      "NotebookApp.iopub_msg_rate_limit=1000.0 (msgs/sec)\n",
      "NotebookApp.rate_limit_window=3.0 (secs)\n",
      "\n"
     ]
    },
    {
     "name": "stdout",
     "output_type": "stream",
     "text": [
      " 97%|█████████▋| 77335/79611 [2:55:49<05:10,  7.33it/s, loss=3.43]"
     ]
    },
    {
     "name": "stderr",
     "output_type": "stream",
     "text": [
      "IOPub message rate exceeded.\n",
      "The notebook server will temporarily stop sending output\n",
      "to the client in order to avoid crashing it.\n",
      "To change this limit, set the config variable\n",
      "`--NotebookApp.iopub_msg_rate_limit`.\n",
      "\n",
      "Current values:\n",
      "NotebookApp.iopub_msg_rate_limit=1000.0 (msgs/sec)\n",
      "NotebookApp.rate_limit_window=3.0 (secs)\n",
      "\n"
     ]
    }
   ],
   "source": [
    "learner.lr_find(start_lr=lrs/10, end_lr=lrs*10, linear=True)"
   ]
  },
  {
   "cell_type": "code",
   "execution_count": 46,
   "metadata": {},
   "outputs": [
    {
     "data": {
      "image/png": "[encoded data removed]",
      "text/plain": [
       "<Figure size 432x288 with 1 Axes>"
      ]
     },
     "metadata": {},
     "output_type": "display_data"
    }
   ],
   "source": [
    "learner.sched.plot()"
   ]
  },
  {
   "cell_type": "code",
   "execution_count": 47,
   "metadata": {},
   "outputs": [],
   "source": [
    "learner.save('lm_last_ft2')"
   ]
  },
  {
   "cell_type": "code",
   "execution_count": null,
   "metadata": {},
   "outputs": [],
   "source": [
    "1+1"
   ]
  },
  {
   "cell_type": "code",
   "execution_count": null,
   "metadata": {
    "scrolled": true
   },
   "outputs": [
    {
     "data": {
      "application/vnd.jupyter.widget-view+json": {
       "model_id": "e4629368a4e74825822d3ec7bcc37430",
       "version_major": 2,
       "version_minor": 0
      },
      "text/plain": [
       "HBox(children=(IntProgress(value=0, description='Epoch', max=12), HTML(value='')))"
      ]
     },
     "metadata": {},
     "output_type": "display_data"
    },
    {
     "name": "stdout",
     "output_type": "stream",
     "text": [
      "  4%|▍         | 3135/79611 [07:10<2:55:13,  7.27it/s, loss=3.57]"
     ]
    },
    {
     "name": "stderr",
     "output_type": "stream",
     "text": [
      "IOPub message rate exceeded.\n",
      "The notebook server will temporarily stop sending output\n",
      "to the client in order to avoid crashing it.\n",
      "To change this limit, set the config variable\n",
      "`--NotebookApp.iopub_msg_rate_limit`.\n",
      "\n",
      "Current values:\n",
      "NotebookApp.iopub_msg_rate_limit=1000.0 (msgs/sec)\n",
      "NotebookApp.rate_limit_window=3.0 (secs)\n",
      "\n"
     ]
    },
    {
     "name": "stdout",
     "output_type": "stream",
     "text": [
      " 13%|█▎        | 10602/79611 [24:11<2:37:24,  7.31it/s, loss=3.45]"
     ]
    },
    {
     "name": "stderr",
     "output_type": "stream",
     "text": [
      "IOPub message rate exceeded.\n",
      "The notebook server will temporarily stop sending output\n",
      "to the client in order to avoid crashing it.\n",
      "To change this limit, set the config variable\n",
      "`--NotebookApp.iopub_msg_rate_limit`.\n",
      "\n",
      "Current values:\n",
      "NotebookApp.iopub_msg_rate_limit=1000.0 (msgs/sec)\n",
      "NotebookApp.rate_limit_window=3.0 (secs)\n",
      "\n"
     ]
    },
    {
     "name": "stdout",
     "output_type": "stream",
     "text": [
      " 23%|██▎       | 18112/79611 [41:19<2:20:20,  7.30it/s, loss=3.45]"
     ]
    },
    {
     "name": "stderr",
     "output_type": "stream",
     "text": [
      "IOPub message rate exceeded.\n",
      "The notebook server will temporarily stop sending output\n",
      "to the client in order to avoid crashing it.\n",
      "To change this limit, set the config variable\n",
      "`--NotebookApp.iopub_msg_rate_limit`.\n",
      "\n",
      "Current values:\n",
      "NotebookApp.iopub_msg_rate_limit=1000.0 (msgs/sec)\n",
      "NotebookApp.rate_limit_window=3.0 (secs)\n",
      "\n"
     ]
    },
    {
     "name": "stdout",
     "output_type": "stream",
     "text": [
      " 32%|███▏      | 25572/79611 [58:19<2:03:14,  7.31it/s, loss=3.36]"
     ]
    },
    {
     "name": "stderr",
     "output_type": "stream",
     "text": [
      "IOPub message rate exceeded.\n",
      "The notebook server will temporarily stop sending output\n",
      "to the client in order to avoid crashing it.\n",
      "To change this limit, set the config variable\n",
      "`--NotebookApp.iopub_msg_rate_limit`.\n",
      "\n",
      "Current values:\n",
      "NotebookApp.iopub_msg_rate_limit=1000.0 (msgs/sec)\n",
      "NotebookApp.rate_limit_window=3.0 (secs)\n",
      "\n"
     ]
    },
    {
     "name": "stdout",
     "output_type": "stream",
     "text": [
      " 41%|████      | 32413/79611 [1:14:05<1:47:52,  7.29it/s, loss=3.26]"
     ]
    },
    {
     "name": "stderr",
     "output_type": "stream",
     "text": [
      "IOPub message rate exceeded.\n",
      "The notebook server will temporarily stop sending output\n",
      "to the client in order to avoid crashing it.\n",
      "To change this limit, set the config variable\n",
      "`--NotebookApp.iopub_msg_rate_limit`.\n",
      "\n",
      "Current values:\n",
      "NotebookApp.iopub_msg_rate_limit=1000.0 (msgs/sec)\n",
      "NotebookApp.rate_limit_window=3.0 (secs)\n",
      "\n"
     ]
    },
    {
     "name": "stdout",
     "output_type": "stream",
     "text": [
      " 50%|█████     | 39829/79611 [1:31:03<1:30:57,  7.29it/s, loss=3.24]"
     ]
    },
    {
     "name": "stderr",
     "output_type": "stream",
     "text": [
      "IOPub message rate exceeded.\n",
      "The notebook server will temporarily stop sending output\n",
      "to the client in order to avoid crashing it.\n",
      "To change this limit, set the config variable\n",
      "`--NotebookApp.iopub_msg_rate_limit`.\n",
      "\n",
      "Current values:\n",
      "NotebookApp.iopub_msg_rate_limit=1000.0 (msgs/sec)\n",
      "NotebookApp.rate_limit_window=3.0 (secs)\n",
      "\n"
     ]
    },
    {
     "name": "stdout",
     "output_type": "stream",
     "text": [
      " 59%|█████▉    | 47266/79611 [1:48:00<1:13:54,  7.29it/s, loss=3.24]"
     ]
    },
    {
     "name": "stderr",
     "output_type": "stream",
     "text": [
      "IOPub message rate exceeded.\n",
      "The notebook server will temporarily stop sending output\n",
      "to the client in order to avoid crashing it.\n",
      "To change this limit, set the config variable\n",
      "`--NotebookApp.iopub_msg_rate_limit`.\n",
      "\n",
      "Current values:\n",
      "NotebookApp.iopub_msg_rate_limit=1000.0 (msgs/sec)\n",
      "NotebookApp.rate_limit_window=3.0 (secs)\n",
      "\n"
     ]
    },
    {
     "name": "stdout",
     "output_type": "stream",
     "text": [
      " 69%|██████▊   | 54727/79611 [2:05:00<56:50,  7.30it/s, loss=3.28]  "
     ]
    },
    {
     "name": "stderr",
     "output_type": "stream",
     "text": [
      "IOPub message rate exceeded.\n",
      "The notebook server will temporarily stop sending output\n",
      "to the client in order to avoid crashing it.\n",
      "To change this limit, set the config variable\n",
      "`--NotebookApp.iopub_msg_rate_limit`.\n",
      "\n",
      "Current values:\n",
      "NotebookApp.iopub_msg_rate_limit=1000.0 (msgs/sec)\n",
      "NotebookApp.rate_limit_window=3.0 (secs)\n",
      "\n"
     ]
    },
    {
     "name": "stdout",
     "output_type": "stream",
     "text": [
      " 78%|███████▊  | 62161/79611 [2:21:59<39:51,  7.30it/s, loss=3.25]"
     ]
    },
    {
     "name": "stderr",
     "output_type": "stream",
     "text": [
      "IOPub message rate exceeded.\n",
      "The notebook server will temporarily stop sending output\n",
      "to the client in order to avoid crashing it.\n",
      "To change this limit, set the config variable\n",
      "`--NotebookApp.iopub_msg_rate_limit`.\n",
      "\n",
      "Current values:\n",
      "NotebookApp.iopub_msg_rate_limit=1000.0 (msgs/sec)\n",
      "NotebookApp.rate_limit_window=3.0 (secs)\n",
      "\n"
     ]
    },
    {
     "name": "stdout",
     "output_type": "stream",
     "text": [
      " 87%|████████▋ | 69589/79611 [2:38:58<22:53,  7.30it/s, loss=3.22]"
     ]
    },
    {
     "name": "stderr",
     "output_type": "stream",
     "text": [
      "IOPub message rate exceeded.\n",
      "The notebook server will temporarily stop sending output\n",
      "to the client in order to avoid crashing it.\n",
      "To change this limit, set the config variable\n",
      "`--NotebookApp.iopub_msg_rate_limit`.\n",
      "\n",
      "Current values:\n",
      "NotebookApp.iopub_msg_rate_limit=1000.0 (msgs/sec)\n",
      "NotebookApp.rate_limit_window=3.0 (secs)\n",
      "\n"
     ]
    },
    {
     "name": "stdout",
     "output_type": "stream",
     "text": [
      " 97%|█████████▋| 76855/79611 [2:55:34<06:17,  7.30it/s, loss=3.23]"
     ]
    },
    {
     "name": "stderr",
     "output_type": "stream",
     "text": [
      "IOPub message rate exceeded.\n",
      "The notebook server will temporarily stop sending output\n",
      "to the client in order to avoid crashing it.\n",
      "To change this limit, set the config variable\n",
      "`--NotebookApp.iopub_msg_rate_limit`.\n",
      "\n",
      "Current values:\n",
      "NotebookApp.iopub_msg_rate_limit=1000.0 (msgs/sec)\n",
      "NotebookApp.rate_limit_window=3.0 (secs)\n",
      "\n"
     ]
    },
    {
     "name": "stdout",
     "output_type": "stream",
     "text": [
      "  6%|▌         | 4642/79611 [10:35<2:51:02,  7.31it/s, loss=3.18]"
     ]
    },
    {
     "name": "stderr",
     "output_type": "stream",
     "text": [
      "IOPub message rate exceeded.\n",
      "The notebook server will temporarily stop sending output\n",
      "to the client in order to avoid crashing it.\n",
      "To change this limit, set the config variable\n",
      "`--NotebookApp.iopub_msg_rate_limit`.\n",
      "\n",
      "Current values:\n",
      "NotebookApp.iopub_msg_rate_limit=1000.0 (msgs/sec)\n",
      "NotebookApp.rate_limit_window=3.0 (secs)\n",
      "\n"
     ]
    },
    {
     "name": "stdout",
     "output_type": "stream",
     "text": [
      " 15%|█▌        | 12134/79611 [27:38<2:33:41,  7.32it/s, loss=3.23]"
     ]
    },
    {
     "name": "stderr",
     "output_type": "stream",
     "text": [
      "IOPub message rate exceeded.\n",
      "The notebook server will temporarily stop sending output\n",
      "to the client in order to avoid crashing it.\n",
      "To change this limit, set the config variable\n",
      "`--NotebookApp.iopub_msg_rate_limit`.\n",
      "\n",
      "Current values:\n",
      "NotebookApp.iopub_msg_rate_limit=1000.0 (msgs/sec)\n",
      "NotebookApp.rate_limit_window=3.0 (secs)\n",
      "\n"
     ]
    },
    {
     "name": "stdout",
     "output_type": "stream",
     "text": [
      " 25%|██▍       | 19585/79611 [44:35<2:16:38,  7.32it/s, loss=3.2] "
     ]
    },
    {
     "name": "stderr",
     "output_type": "stream",
     "text": [
      "IOPub message rate exceeded.\n",
      "The notebook server will temporarily stop sending output\n",
      "to the client in order to avoid crashing it.\n",
      "To change this limit, set the config variable\n",
      "`--NotebookApp.iopub_msg_rate_limit`.\n",
      "\n",
      "Current values:\n",
      "NotebookApp.iopub_msg_rate_limit=1000.0 (msgs/sec)\n",
      "NotebookApp.rate_limit_window=3.0 (secs)\n",
      "\n"
     ]
    },
    {
     "name": "stdout",
     "output_type": "stream",
     "text": [
      " 34%|███▍      | 27080/79611 [1:01:38<1:59:33,  7.32it/s, loss=3.2] "
     ]
    },
    {
     "name": "stderr",
     "output_type": "stream",
     "text": [
      "IOPub message rate exceeded.\n",
      "The notebook server will temporarily stop sending output\n",
      "to the client in order to avoid crashing it.\n",
      "To change this limit, set the config variable\n",
      "`--NotebookApp.iopub_msg_rate_limit`.\n",
      "\n",
      "Current values:\n",
      "NotebookApp.iopub_msg_rate_limit=1000.0 (msgs/sec)\n",
      "NotebookApp.rate_limit_window=3.0 (secs)\n",
      "\n"
     ]
    },
    {
     "name": "stdout",
     "output_type": "stream",
     "text": [
      " 43%|████▎     | 34549/79611 [1:18:41<1:42:38,  7.32it/s, loss=3.17]"
     ]
    },
    {
     "name": "stderr",
     "output_type": "stream",
     "text": [
      "IOPub message rate exceeded.\n",
      "The notebook server will temporarily stop sending output\n",
      "to the client in order to avoid crashing it.\n",
      "To change this limit, set the config variable\n",
      "`--NotebookApp.iopub_msg_rate_limit`.\n",
      "\n",
      "Current values:\n",
      "NotebookApp.iopub_msg_rate_limit=1000.0 (msgs/sec)\n",
      "NotebookApp.rate_limit_window=3.0 (secs)\n",
      "\n"
     ]
    },
    {
     "name": "stdout",
     "output_type": "stream",
     "text": [
      " 52%|█████▏    | 41217/79611 [1:34:02<1:27:35,  7.31it/s, loss=3.16]"
     ]
    },
    {
     "name": "stderr",
     "output_type": "stream",
     "text": [
      "IOPub message rate exceeded.\n",
      "The notebook server will temporarily stop sending output\n",
      "to the client in order to avoid crashing it.\n",
      "To change this limit, set the config variable\n",
      "`--NotebookApp.iopub_msg_rate_limit`.\n",
      "\n",
      "Current values:\n",
      "NotebookApp.iopub_msg_rate_limit=1000.0 (msgs/sec)\n",
      "NotebookApp.rate_limit_window=3.0 (secs)\n",
      "\n"
     ]
    },
    {
     "name": "stdout",
     "output_type": "stream",
     "text": [
      " 61%|██████    | 48710/79611 [1:51:16<1:10:35,  7.30it/s, loss=3.19]"
     ]
    },
    {
     "name": "stderr",
     "output_type": "stream",
     "text": [
      "IOPub message rate exceeded.\n",
      "The notebook server will temporarily stop sending output\n",
      "to the client in order to avoid crashing it.\n",
      "To change this limit, set the config variable\n",
      "`--NotebookApp.iopub_msg_rate_limit`.\n",
      "\n",
      "Current values:\n",
      "NotebookApp.iopub_msg_rate_limit=1000.0 (msgs/sec)\n",
      "NotebookApp.rate_limit_window=3.0 (secs)\n",
      "\n"
     ]
    },
    {
     "name": "stdout",
     "output_type": "stream",
     "text": [
      " 71%|███████   | 56234/79611 [2:08:31<53:25,  7.29it/s, loss=3.14]  "
     ]
    },
    {
     "name": "stderr",
     "output_type": "stream",
     "text": [
      "IOPub message rate exceeded.\n",
      "The notebook server will temporarily stop sending output\n",
      "to the client in order to avoid crashing it.\n",
      "To change this limit, set the config variable\n",
      "`--NotebookApp.iopub_msg_rate_limit`.\n",
      "\n",
      "Current values:\n",
      "NotebookApp.iopub_msg_rate_limit=1000.0 (msgs/sec)\n",
      "NotebookApp.rate_limit_window=3.0 (secs)\n",
      "\n"
     ]
    },
    {
     "name": "stdout",
     "output_type": "stream",
     "text": [
      " 80%|███████▉  | 63680/79611 [2:25:29<36:23,  7.29it/s, loss=3.15]"
     ]
    },
    {
     "name": "stderr",
     "output_type": "stream",
     "text": [
      "IOPub message rate exceeded.\n",
      "The notebook server will temporarily stop sending output\n",
      "to the client in order to avoid crashing it.\n",
      "To change this limit, set the config variable\n",
      "`--NotebookApp.iopub_msg_rate_limit`.\n",
      "\n",
      "Current values:\n",
      "NotebookApp.iopub_msg_rate_limit=1000.0 (msgs/sec)\n",
      "NotebookApp.rate_limit_window=3.0 (secs)\n",
      "\n"
     ]
    },
    {
     "name": "stdout",
     "output_type": "stream",
     "text": [
      " 89%|████████▉ | 71157/79611 [2:42:32<19:18,  7.30it/s, loss=3.15]"
     ]
    },
    {
     "name": "stderr",
     "output_type": "stream",
     "text": [
      "IOPub message rate exceeded.\n",
      "The notebook server will temporarily stop sending output\n",
      "to the client in order to avoid crashing it.\n",
      "To change this limit, set the config variable\n",
      "`--NotebookApp.iopub_msg_rate_limit`.\n",
      "\n",
      "Current values:\n",
      "NotebookApp.iopub_msg_rate_limit=1000.0 (msgs/sec)\n",
      "NotebookApp.rate_limit_window=3.0 (secs)\n",
      "\n"
     ]
    },
    {
     "name": "stdout",
     "output_type": "stream",
     "text": [
      " 96%|█████████▌| 76480/79611 [2:54:41<07:09,  7.30it/s, loss=3.14]"
     ]
    },
    {
     "name": "stderr",
     "output_type": "stream",
     "text": [
      "IOPub message rate exceeded.\n",
      "The notebook server will temporarily stop sending output\n",
      "to the client in order to avoid crashing it.\n",
      "To change this limit, set the config variable\n",
      "`--NotebookApp.iopub_msg_rate_limit`.\n",
      "\n",
      "Current values:\n",
      "NotebookApp.iopub_msg_rate_limit=1000.0 (msgs/sec)\n",
      "NotebookApp.rate_limit_window=3.0 (secs)\n",
      "\n"
     ]
    },
    {
     "name": "stdout",
     "output_type": "stream",
     "text": [
      " 99%|█████████▊| 78548/79611 [2:59:24<02:25,  7.30it/s, loss=3.19]"
     ]
    },
    {
     "name": "stderr",
     "output_type": "stream",
     "text": [
      "IOPub message rate exceeded.\n",
      "The notebook server will temporarily stop sending output\n",
      "to the client in order to avoid crashing it.\n",
      "To change this limit, set the config variable\n",
      "`--NotebookApp.iopub_msg_rate_limit`.\n",
      "\n",
      "Current values:\n",
      "NotebookApp.iopub_msg_rate_limit=1000.0 (msgs/sec)\n",
      "NotebookApp.rate_limit_window=3.0 (secs)\n",
      "\n"
     ]
    },
    {
     "name": "stdout",
     "output_type": "stream",
     "text": [
      "  5%|▌         | 4310/79611 [09:48<2:51:20,  7.32it/s, loss=3.11]"
     ]
    },
    {
     "name": "stderr",
     "output_type": "stream",
     "text": [
      "IOPub message rate exceeded.\n",
      "The notebook server will temporarily stop sending output\n",
      "to the client in order to avoid crashing it.\n",
      "To change this limit, set the config variable\n",
      "`--NotebookApp.iopub_msg_rate_limit`.\n",
      "\n",
      "Current values:\n",
      "NotebookApp.iopub_msg_rate_limit=1000.0 (msgs/sec)\n",
      "NotebookApp.rate_limit_window=3.0 (secs)\n",
      "\n"
     ]
    },
    {
     "name": "stdout",
     "output_type": "stream",
     "text": [
      "  8%|▊         | 6389/79611 [14:34<2:46:56,  7.31it/s, loss=3.18]"
     ]
    },
    {
     "name": "stderr",
     "output_type": "stream",
     "text": [
      "IOPub message rate exceeded.\n",
      "The notebook server will temporarily stop sending output\n",
      "to the client in order to avoid crashing it.\n",
      "To change this limit, set the config variable\n",
      "`--NotebookApp.iopub_msg_rate_limit`.\n",
      "\n",
      "Current values:\n",
      "NotebookApp.iopub_msg_rate_limit=1000.0 (msgs/sec)\n",
      "NotebookApp.rate_limit_window=3.0 (secs)\n",
      "\n"
     ]
    },
    {
     "name": "stdout",
     "output_type": "stream",
     "text": [
      " 15%|█▍        | 11682/79611 [26:38<2:34:56,  7.31it/s, loss=3.21]"
     ]
    },
    {
     "name": "stderr",
     "output_type": "stream",
     "text": [
      "IOPub message rate exceeded.\n",
      "The notebook server will temporarily stop sending output\n",
      "to the client in order to avoid crashing it.\n",
      "To change this limit, set the config variable\n",
      "`--NotebookApp.iopub_msg_rate_limit`.\n",
      "\n",
      "Current values:\n",
      "NotebookApp.iopub_msg_rate_limit=1000.0 (msgs/sec)\n",
      "NotebookApp.rate_limit_window=3.0 (secs)\n",
      "\n"
     ]
    },
    {
     "name": "stdout",
     "output_type": "stream",
     "text": [
      " 17%|█▋        | 13757/79611 [31:23<2:30:16,  7.30it/s, loss=3.2] "
     ]
    },
    {
     "name": "stderr",
     "output_type": "stream",
     "text": [
      "IOPub message rate exceeded.\n",
      "The notebook server will temporarily stop sending output\n",
      "to the client in order to avoid crashing it.\n",
      "To change this limit, set the config variable\n",
      "`--NotebookApp.iopub_msg_rate_limit`.\n",
      "\n",
      "Current values:\n",
      "NotebookApp.iopub_msg_rate_limit=1000.0 (msgs/sec)\n",
      "NotebookApp.rate_limit_window=3.0 (secs)\n",
      "\n"
     ]
    },
    {
     "name": "stdout",
     "output_type": "stream",
     "text": [
      " 24%|██▍       | 19090/79611 [43:32<2:18:03,  7.31it/s, loss=3.18]"
     ]
    },
    {
     "name": "stderr",
     "output_type": "stream",
     "text": [
      "IOPub message rate exceeded.\n",
      "The notebook server will temporarily stop sending output\n",
      "to the client in order to avoid crashing it.\n",
      "To change this limit, set the config variable\n",
      "`--NotebookApp.iopub_msg_rate_limit`.\n",
      "\n",
      "Current values:\n",
      "NotebookApp.iopub_msg_rate_limit=1000.0 (msgs/sec)\n",
      "NotebookApp.rate_limit_window=3.0 (secs)\n",
      "\n"
     ]
    },
    {
     "name": "stdout",
     "output_type": "stream",
     "text": [
      " 27%|██▋       | 21177/79611 [48:18<2:13:16,  7.31it/s, loss=3.21]"
     ]
    },
    {
     "name": "stderr",
     "output_type": "stream",
     "text": [
      "IOPub message rate exceeded.\n",
      "The notebook server will temporarily stop sending output\n",
      "to the client in order to avoid crashing it.\n",
      "To change this limit, set the config variable\n",
      "`--NotebookApp.iopub_msg_rate_limit`.\n",
      "\n",
      "Current values:\n",
      "NotebookApp.iopub_msg_rate_limit=1000.0 (msgs/sec)\n",
      "NotebookApp.rate_limit_window=3.0 (secs)\n",
      "\n"
     ]
    },
    {
     "name": "stdout",
     "output_type": "stream",
     "text": [
      " 33%|███▎      | 26563/79611 [1:00:32<2:00:54,  7.31it/s, loss=3.19]"
     ]
    },
    {
     "name": "stderr",
     "output_type": "stream",
     "text": [
      "IOPub message rate exceeded.\n",
      "The notebook server will temporarily stop sending output\n",
      "to the client in order to avoid crashing it.\n",
      "To change this limit, set the config variable\n",
      "`--NotebookApp.iopub_msg_rate_limit`.\n",
      "\n",
      "Current values:\n",
      "NotebookApp.iopub_msg_rate_limit=1000.0 (msgs/sec)\n",
      "NotebookApp.rate_limit_window=3.0 (secs)\n",
      "\n"
     ]
    },
    {
     "name": "stdout",
     "output_type": "stream",
     "text": [
      " 36%|███▌      | 28665/79611 [1:05:20<1:56:07,  7.31it/s, loss=3.21]"
     ]
    },
    {
     "name": "stderr",
     "output_type": "stream",
     "text": [
      "IOPub message rate exceeded.\n",
      "The notebook server will temporarily stop sending output\n",
      "to the client in order to avoid crashing it.\n",
      "To change this limit, set the config variable\n",
      "`--NotebookApp.iopub_msg_rate_limit`.\n",
      "\n",
      "Current values:\n",
      "NotebookApp.iopub_msg_rate_limit=1000.0 (msgs/sec)\n",
      "NotebookApp.rate_limit_window=3.0 (secs)\n",
      "\n"
     ]
    },
    {
     "name": "stdout",
     "output_type": "stream",
     "text": [
      " 43%|████▎     | 33996/79611 [1:17:30<1:44:00,  7.31it/s, loss=3.13]"
     ]
    },
    {
     "name": "stderr",
     "output_type": "stream",
     "text": [
      "IOPub message rate exceeded.\n",
      "The notebook server will temporarily stop sending output\n",
      "to the client in order to avoid crashing it.\n",
      "To change this limit, set the config variable\n",
      "`--NotebookApp.iopub_msg_rate_limit`.\n",
      "\n",
      "Current values:\n",
      "NotebookApp.iopub_msg_rate_limit=1000.0 (msgs/sec)\n",
      "NotebookApp.rate_limit_window=3.0 (secs)\n",
      "\n"
     ]
    },
    {
     "name": "stdout",
     "output_type": "stream",
     "text": [
      " 45%|████▌     | 36116/79611 [1:22:19<1:39:09,  7.31it/s, loss=3.24]"
     ]
    },
    {
     "name": "stderr",
     "output_type": "stream",
     "text": [
      "IOPub message rate exceeded.\n",
      "The notebook server will temporarily stop sending output\n",
      "to the client in order to avoid crashing it.\n",
      "To change this limit, set the config variable\n",
      "`--NotebookApp.iopub_msg_rate_limit`.\n",
      "\n",
      "Current values:\n",
      "NotebookApp.iopub_msg_rate_limit=1000.0 (msgs/sec)\n",
      "NotebookApp.rate_limit_window=3.0 (secs)\n",
      "\n"
     ]
    },
    {
     "name": "stdout",
     "output_type": "stream",
     "text": [
      " 52%|█████▏    | 41433/79611 [1:34:27<1:27:01,  7.31it/s, loss=3.11]"
     ]
    },
    {
     "name": "stderr",
     "output_type": "stream",
     "text": [
      "IOPub message rate exceeded.\n",
      "The notebook server will temporarily stop sending output\n",
      "to the client in order to avoid crashing it.\n",
      "To change this limit, set the config variable\n",
      "`--NotebookApp.iopub_msg_rate_limit`.\n",
      "\n",
      "Current values:\n",
      "NotebookApp.iopub_msg_rate_limit=1000.0 (msgs/sec)\n",
      "NotebookApp.rate_limit_window=3.0 (secs)\n",
      "\n"
     ]
    },
    {
     "name": "stdout",
     "output_type": "stream",
     "text": [
      " 55%|█████▍    | 43554/79611 [1:39:17<1:22:12,  7.31it/s, loss=3.18]"
     ]
    },
    {
     "name": "stderr",
     "output_type": "stream",
     "text": [
      "IOPub message rate exceeded.\n",
      "The notebook server will temporarily stop sending output\n",
      "to the client in order to avoid crashing it.\n",
      "To change this limit, set the config variable\n",
      "`--NotebookApp.iopub_msg_rate_limit`.\n",
      "\n",
      "Current values:\n",
      "NotebookApp.iopub_msg_rate_limit=1000.0 (msgs/sec)\n",
      "NotebookApp.rate_limit_window=3.0 (secs)\n",
      "\n"
     ]
    },
    {
     "name": "stdout",
     "output_type": "stream",
     "text": [
      " 61%|██████▏   | 48847/79611 [1:51:19<1:10:06,  7.31it/s, loss=3.1] "
     ]
    },
    {
     "name": "stderr",
     "output_type": "stream",
     "text": [
      "IOPub message rate exceeded.\n",
      "The notebook server will temporarily stop sending output\n",
      "to the client in order to avoid crashing it.\n",
      "To change this limit, set the config variable\n",
      "`--NotebookApp.iopub_msg_rate_limit`.\n",
      "\n",
      "Current values:\n",
      "NotebookApp.iopub_msg_rate_limit=1000.0 (msgs/sec)\n",
      "NotebookApp.rate_limit_window=3.0 (secs)\n",
      "\n"
     ]
    },
    {
     "name": "stdout",
     "output_type": "stream",
     "text": [
      " 64%|██████▍   | 50946/79611 [1:56:06<1:05:19,  7.31it/s, loss=3.19]"
     ]
    },
    {
     "name": "stderr",
     "output_type": "stream",
     "text": [
      "IOPub message rate exceeded.\n",
      "The notebook server will temporarily stop sending output\n",
      "to the client in order to avoid crashing it.\n",
      "To change this limit, set the config variable\n",
      "`--NotebookApp.iopub_msg_rate_limit`.\n",
      "\n",
      "Current values:\n",
      "NotebookApp.iopub_msg_rate_limit=1000.0 (msgs/sec)\n",
      "NotebookApp.rate_limit_window=3.0 (secs)\n",
      "\n"
     ]
    },
    {
     "name": "stdout",
     "output_type": "stream",
     "text": [
      " 71%|███████   | 56233/79611 [2:08:19<53:20,  7.30it/s, loss=3.1] "
     ]
    },
    {
     "name": "stderr",
     "output_type": "stream",
     "text": [
      "IOPub message rate exceeded.\n",
      "The notebook server will temporarily stop sending output\n",
      "to the client in order to avoid crashing it.\n",
      "To change this limit, set the config variable\n",
      "`--NotebookApp.iopub_msg_rate_limit`.\n",
      "\n",
      "Current values:\n",
      "NotebookApp.iopub_msg_rate_limit=1000.0 (msgs/sec)\n",
      "NotebookApp.rate_limit_window=3.0 (secs)\n",
      "\n"
     ]
    },
    {
     "name": "stdout",
     "output_type": "stream",
     "text": [
      " 73%|███████▎  | 58353/79611 [2:13:11<48:31,  7.30it/s, loss=3.17]"
     ]
    },
    {
     "name": "stderr",
     "output_type": "stream",
     "text": [
      "IOPub message rate exceeded.\n",
      "The notebook server will temporarily stop sending output\n",
      "to the client in order to avoid crashing it.\n",
      "To change this limit, set the config variable\n",
      "`--NotebookApp.iopub_msg_rate_limit`.\n",
      "\n",
      "Current values:\n",
      "NotebookApp.iopub_msg_rate_limit=1000.0 (msgs/sec)\n",
      "NotebookApp.rate_limit_window=3.0 (secs)\n",
      "\n"
     ]
    },
    {
     "name": "stdout",
     "output_type": "stream",
     "text": [
      " 80%|███████▉  | 63665/79611 [2:25:24<36:25,  7.30it/s, loss=3.13]"
     ]
    },
    {
     "name": "stderr",
     "output_type": "stream",
     "text": [
      "IOPub message rate exceeded.\n",
      "The notebook server will temporarily stop sending output\n",
      "to the client in order to avoid crashing it.\n",
      "To change this limit, set the config variable\n",
      "`--NotebookApp.iopub_msg_rate_limit`.\n",
      "\n",
      "Current values:\n",
      "NotebookApp.iopub_msg_rate_limit=1000.0 (msgs/sec)\n",
      "NotebookApp.rate_limit_window=3.0 (secs)\n",
      "\n"
     ]
    },
    {
     "name": "stdout",
     "output_type": "stream",
     "text": [
      " 83%|████████▎ | 65765/79611 [2:30:13<31:37,  7.30it/s, loss=3.21]"
     ]
    },
    {
     "name": "stderr",
     "output_type": "stream",
     "text": [
      "IOPub message rate exceeded.\n",
      "The notebook server will temporarily stop sending output\n",
      "to the client in order to avoid crashing it.\n",
      "To change this limit, set the config variable\n",
      "`--NotebookApp.iopub_msg_rate_limit`.\n",
      "\n",
      "Current values:\n",
      "NotebookApp.iopub_msg_rate_limit=1000.0 (msgs/sec)\n",
      "NotebookApp.rate_limit_window=3.0 (secs)\n",
      "\n"
     ]
    },
    {
     "name": "stdout",
     "output_type": "stream",
     "text": [
      " 88%|████████▊ | 69834/79611 [2:39:34<22:20,  7.29it/s, loss=3.11]"
     ]
    },
    {
     "name": "stderr",
     "output_type": "stream",
     "text": [
      "IOPub message rate exceeded.\n",
      "The notebook server will temporarily stop sending output\n",
      "to the client in order to avoid crashing it.\n",
      "To change this limit, set the config variable\n",
      "`--NotebookApp.iopub_msg_rate_limit`.\n",
      "\n",
      "Current values:\n",
      "NotebookApp.iopub_msg_rate_limit=1000.0 (msgs/sec)\n",
      "NotebookApp.rate_limit_window=3.0 (secs)\n",
      "\n"
     ]
    },
    {
     "name": "stdout",
     "output_type": "stream",
     "text": [
      " 90%|████████▉ | 71551/79611 [2:43:30<18:25,  7.29it/s, loss=3.15]"
     ]
    },
    {
     "name": "stderr",
     "output_type": "stream",
     "text": [
      "IOPub message rate exceeded.\n",
      "The notebook server will temporarily stop sending output\n",
      "to the client in order to avoid crashing it.\n",
      "To change this limit, set the config variable\n",
      "`--NotebookApp.iopub_msg_rate_limit`.\n",
      "\n",
      "Current values:\n",
      "NotebookApp.iopub_msg_rate_limit=1000.0 (msgs/sec)\n",
      "NotebookApp.rate_limit_window=3.0 (secs)\n",
      "\n"
     ]
    },
    {
     "name": "stdout",
     "output_type": "stream",
     "text": [
      " 97%|█████████▋| 77262/79611 [2:56:36<05:22,  7.29it/s, loss=3.17]"
     ]
    },
    {
     "name": "stderr",
     "output_type": "stream",
     "text": [
      "IOPub message rate exceeded.\n",
      "The notebook server will temporarily stop sending output\n",
      "to the client in order to avoid crashing it.\n",
      "To change this limit, set the config variable\n",
      "`--NotebookApp.iopub_msg_rate_limit`.\n",
      "\n",
      "Current values:\n",
      "NotebookApp.iopub_msg_rate_limit=1000.0 (msgs/sec)\n",
      "NotebookApp.rate_limit_window=3.0 (secs)\n",
      "\n"
     ]
    },
    {
     "name": "stdout",
     "output_type": "stream",
     "text": [
      " 99%|█████████▉| 78984/79611 [3:00:34<01:26,  7.29it/s, loss=3.14]"
     ]
    },
    {
     "name": "stderr",
     "output_type": "stream",
     "text": [
      "IOPub message rate exceeded.\n",
      "The notebook server will temporarily stop sending output\n",
      "to the client in order to avoid crashing it.\n",
      "To change this limit, set the config variable\n",
      "`--NotebookApp.iopub_msg_rate_limit`.\n",
      "\n",
      "Current values:\n",
      "NotebookApp.iopub_msg_rate_limit=1000.0 (msgs/sec)\n",
      "NotebookApp.rate_limit_window=3.0 (secs)\n",
      "\n"
     ]
    },
    {
     "name": "stdout",
     "output_type": "stream",
     "text": [
      "    2      3.112796   3.010395   0.409714  \n",
      " 10%|█         | 8035/79611 [18:26<2:44:13,  7.26it/s, loss=3.13]"
     ]
    }
   ],
   "source": [
    "# learner.fit(lrs, 1, wds=wd, use_clr=(20,10), cycle_len=15)\n",
    "learner.fit(lrs, 1, wds=wd, use_clr=(20,10), cycle_len=2)"
   ]
  },
  {
   "cell_type": "code",
   "execution_count": null,
   "metadata": {},
   "outputs": [],
   "source": [
    "learner.save('lm1')"
   ]
  },
  {
   "cell_type": "code",
   "execution_count": null,
   "metadata": {},
   "outputs": [],
   "source": [
    "learner.save_encoder('lm1_enc')"
   ]
  },
  {
   "cell_type": "code",
   "execution_count": null,
   "metadata": {},
   "outputs": [],
   "source": [
    "learner.sched.plot_loss()"
   ]
  },
  {
   "cell_type": "code",
   "execution_count": null,
   "metadata": {},
   "outputs": [],
   "source": []
  }
 ],
 "metadata": {
  "kernelspec": {
   "display_name": "Python 3.6 (fastai)",
   "language": "python",
   "name": "fastai"
  },
  "language_info": {
   "codemirror_mode": {
    "name": "ipython",
    "version": 3
   },
   "file_extension": ".py",
   "mimetype": "text/x-python",
   "name": "python",
   "nbconvert_exporter": "python",
   "pygments_lexer": "ipython3",
   "version": "3.6.6"
  }
 },
 "nbformat": 4,
 "nbformat_minor": 2
}
